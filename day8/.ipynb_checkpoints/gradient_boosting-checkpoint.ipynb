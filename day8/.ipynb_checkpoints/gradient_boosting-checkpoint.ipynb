{
 "cells": [
  {
   "cell_type": "code",
   "execution_count": 1,
   "id": "cc449f5f-62cb-44a7-856b-7d6751e79477",
   "metadata": {},
   "outputs": [],
   "source": [
    "import pandas as pd\n",
    "import numpy as np\n",
    "from sklearn.model_selection import train_test_split\n",
    "from sklearn.ensemble import GradientBoostingClassifier\n",
    "from sklearn.metrics import classification_report,log_loss,r2_score,mean_squared_error\n",
    "from sklearn.tree import DecisionTreeClassifier,DecisionTreeRegressor\n",
    "from sklearn.neighbors import KNeighborsClassifier\n",
    "from sklearn.linear_model import LogisticRegression,LinearRegression,ElasticNet\n",
    "from sklearn.naive_bayes import GaussianNB"
   ]
  },
  {
   "cell_type": "code",
   "execution_count": 2,
   "id": "47d47bc5-9c05-44e7-a0c5-5c93ab7f808a",
   "metadata": {},
   "outputs": [],
   "source": [
    "\n",
    "#classification models\n",
    "dtc = DecisionTreeClassifier(random_state=25,max_depth=1)\n",
    "knn = KNeighborsClassifier()\n",
    "nb = GaussianNB()\n",
    "lR = LogisticRegression()\n",
    "\n",
    "#Regression models\n",
    "lr = LinearRegression()\n",
    "dtr = DecisionTreeRegressor(random_state=25,max_depth=1)\n",
    "en = ElasticNet()"
   ]
  },
  {
   "cell_type": "markdown",
   "id": "7232080b-087c-4c05-b15e-0608b890a34b",
   "metadata": {},
   "source": [
    "<h1 style = 'color:orange'>Gradient Boosthing</h1>"
   ]
  },
  {
   "cell_type": "code",
   "execution_count": null,
   "id": "594bba6b-0985-4ead-9763-176168aa0406",
   "metadata": {},
   "outputs": [],
   "source": []
  }
 ],
 "metadata": {
  "kernelspec": {
   "display_name": "Python 3 (ipykernel)",
   "language": "python",
   "name": "python3"
  },
  "language_info": {
   "codemirror_mode": {
    "name": "ipython",
    "version": 3
   },
   "file_extension": ".py",
   "mimetype": "text/x-python",
   "name": "python",
   "nbconvert_exporter": "python",
   "pygments_lexer": "ipython3",
   "version": "3.13.7"
  }
 },
 "nbformat": 4,
 "nbformat_minor": 5
}
