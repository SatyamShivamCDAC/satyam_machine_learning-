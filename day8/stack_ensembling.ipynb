{
 "cells": [
  {
   "cell_type": "code",
   "execution_count": 1,
   "id": "c148d0cd-9238-4964-a694-dcf19edcd8f1",
   "metadata": {},
   "outputs": [],
   "source": [
    "import pandas as pd\n",
    "import numpy as np\n",
    "from sklearn.model_selection import train_test_split\n",
    "from sklearn.ensemble import StackingClassifier, GradientBoostingClassifier\n",
    "from sklearn.metrics import classification_report,log_loss,r2_score,mean_squared_error\n",
    "from sklearn.tree import DecisionTreeClassifier,DecisionTreeRegressor\n",
    "from sklearn.neighbors import KNeighborsClassifier\n",
    "from sklearn.linear_model import LogisticRegression,LinearRegression,ElasticNet\n",
    "from sklearn.naive_bayes import GaussianNB\n",
    "from sklearn.preprocessing import LabelEncoder, OneHotEncoder\n",
    "from sklearn.compose import make_column_selector, make_column_transformer"
   ]
  },
  {
   "cell_type": "code",
   "execution_count": 2,
   "id": "12aca595-5b40-4b29-bb8b-18b18adcad5c",
   "metadata": {},
   "outputs": [],
   "source": [
    "\n",
    "#classification models\n",
    "dtc = DecisionTreeClassifier(random_state=25,max_depth=1)\n",
    "knn = KNeighborsClassifier()\n",
    "nb = GaussianNB()\n",
    "lR = LogisticRegression()\n",
    "gbm = GradientBoostingClassifier()\n",
    "\n",
    "#Regression models\n",
    "lr = LinearRegression()\n",
    "dtr = DecisionTreeRegressor(random_state=25,max_depth=1)\n",
    "en = ElasticNet()"
   ]
  },
  {
   "cell_type": "markdown",
   "id": "f39f5da3-8e1d-43bb-a0ed-56e870d33c46",
   "metadata": {},
   "source": [
    "<h1 style = color:Orange>Stack Ensembling</h1>"
   ]
  },
  {
   "cell_type": "code",
   "execution_count": 3,
   "id": "f335fb84-2223-43e2-966c-d2afb41e32ba",
   "metadata": {},
   "outputs": [
    {
     "name": "stdout",
     "output_type": "stream",
     "text": [
      "              precision    recall  f1-score   support\n",
      "\n",
      "           M       0.61      0.79      0.69        34\n",
      "           R       0.63      0.41      0.50        29\n",
      "\n",
      "    accuracy                           0.62        63\n",
      "   macro avg       0.62      0.60      0.60        63\n",
      "weighted avg       0.62      0.62      0.60        63\n",
      "\n",
      "0.7708997480367861\n"
     ]
    }
   ],
   "source": [
    "sonar = pd.read_csv('../Cases/Sonar/Sonar.csv')\n",
    "sonar = pd.read_csv('../Cases/Sonar/Sonar.csv')\n",
    "\n",
    "X = sonar.drop('Class',axis = 1)\n",
    "y = sonar['Class']\n",
    "\n",
    "X_train,X_test,y_train,y_test = train_test_split(X,y,random_state=25,test_size=0.3, stratify=y)\n",
    "\n",
    "sc = StackingClassifier([('TREE', dtc), ('KNN', knn), ('NB', nb)], final_estimator=gbm)\n",
    "sc.fit(X_train, y_train)\n",
    "y_pred = sc.predict_proba(X_test)\n",
    "\n",
    "print(classification_report(y_test, sc.predict(X_test)))\n",
    "print(log_loss(y_test, y_pred))"
   ]
  },
  {
   "cell_type": "code",
   "execution_count": 4,
   "id": "c30d9188-207c-4f1d-a876-710a4a50397d",
   "metadata": {},
   "outputs": [
    {
     "name": "stdout",
     "output_type": "stream",
     "text": [
      "              precision    recall  f1-score   support\n",
      "\n",
      "           M       0.73      0.94      0.82        34\n",
      "           R       0.89      0.59      0.71        29\n",
      "\n",
      "    accuracy                           0.78        63\n",
      "   macro avg       0.81      0.76      0.76        63\n",
      "weighted avg       0.80      0.78      0.77        63\n",
      "\n",
      "0.4859837838658199\n"
     ]
    }
   ],
   "source": [
    "sc = StackingClassifier([('TREE', dtc), ('KNN', knn), ('NB', nb)], final_estimator=gbm, passthrough=True)\n",
    "sc.fit(X_train, y_train)\n",
    "y_pred = sc.predict_proba(X_test)\n",
    "\n",
    "print(classification_report(y_test, sc.predict(X_test)))\n",
    "print(log_loss(y_test, y_pred))"
   ]
  },
  {
   "cell_type": "code",
   "execution_count": null,
   "id": "7f635dc1-12ce-466f-b45a-ddd190eb9736",
   "metadata": {},
   "outputs": [],
   "source": []
  }
 ],
 "metadata": {
  "kernelspec": {
   "display_name": "Python 3 (ipykernel)",
   "language": "python",
   "name": "python3"
  },
  "language_info": {
   "codemirror_mode": {
    "name": "ipython",
    "version": 3
   },
   "file_extension": ".py",
   "mimetype": "text/x-python",
   "name": "python",
   "nbconvert_exporter": "python",
   "pygments_lexer": "ipython3",
   "version": "3.13.7"
  }
 },
 "nbformat": 4,
 "nbformat_minor": 5
}
