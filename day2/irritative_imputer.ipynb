{
 "cells": [
  {
   "cell_type": "code",
   "execution_count": 6,
   "id": "cc3d8262-6425-498d-8422-752454aff67c",
   "metadata": {},
   "outputs": [],
   "source": [
    "import pandas as pd\n",
    "import numpy as np\n",
    "from sklearn.experimental import enable_iterative_imputer\n",
    "from sklearn.linear_model import LinearRegression\n",
    "from sklearn.model_selection import train_test_split\n",
    "from sklearn.impute import SimpleImputer,IterativeImputer\n",
    "from sklearn.metrics import mean_absolute_error\n"
   ]
  },
  {
   "cell_type": "markdown",
   "id": "3b52a825-d171-48a7-9859-c4bfbe4d704d",
   "metadata": {},
   "source": [
    "<h1 style = 'color: Orange'>Irritative Imputer</h1>"
   ]
  },
  {
   "cell_type": "code",
   "execution_count": 27,
   "id": "9c591763-25f6-4850-9fe2-316e7e9c96df",
   "metadata": {},
   "outputs": [
    {
     "data": {
      "text/plain": [
       "6.448873070405156"
      ]
     },
     "execution_count": 27,
     "metadata": {},
     "output_type": "execute_result"
    }
   ],
   "source": [
    "imputer = IterativeImputer(initial_strategy='median') #setting irriative imputer with stategy median \n",
    "chem = pd.read_csv('../Datasets/ChemicalProcess.csv') \n",
    "lr = LinearRegression()\n",
    "\n",
    "X = chem.drop('Yield', axis = 1) #parameters\n",
    "y = chem['Yield'] #output\n",
    "\n",
    "X_train,X_test,y_train,y_test = train_test_split(X,y,test_size=0.3,random_state=25)\n",
    "\n",
    "X_train_imp = imputer.fit_transform(X_train)\n",
    "X_test_imp = imputer.transform(X_test)\n",
    "\n",
    "lr.fit(X_train_imp,y_train)\n",
    "y_pred = lr.predict(X_test_imp)\n",
    "\n",
    "mean_absolute_error(y_pred,y_test)"
   ]
  },
  {
   "cell_type": "code",
   "execution_count": 26,
   "id": "63fa6ce8-ecc4-479e-8b9f-b8faf96b47e6",
   "metadata": {},
   "outputs": [
    {
     "data": {
      "text/plain": [
       "6.451138259421783"
      ]
     },
     "execution_count": 26,
     "metadata": {},
     "output_type": "execute_result"
    }
   ],
   "source": [
    "# imputer = IterativeImputer(initial_strategy='mean')\n",
    "chem = pd.read_csv('../Datasets/ChemicalProcess.csv')\n",
    "lr = LinearRegression()\n",
    "\n",
    "X = chem.drop('Yield', axis = 1) #parameters\n",
    "y = chem['Yield'] #output\n",
    "\n",
    "X_train,X_test,y_train,y_test = train_test_split(X,y,test_size=0.3,random_state=25)\n",
    "\n",
    "X_train_imp = imputer.fit_transform(X_train)\n",
    "X_test_imp = imputer.transform(X_test)\n",
    "\n",
    "lr.fit(X_train_imp,y_train)\n",
    "y_pred = lr.predict(X_test_imp)\n",
    "\n",
    "mean_absolute_error(y_pred,y_test)"
   ]
  },
  {
   "cell_type": "code",
   "execution_count": 25,
   "id": "67701f4f-a630-47eb-ab6e-256f960aaadb",
   "metadata": {},
   "outputs": [
    {
     "name": "stdout",
     "output_type": "stream",
     "text": [
      "44\n",
      "0\n"
     ]
    },
    {
     "data": {
      "text/plain": [
       "5.32928170264718"
      ]
     },
     "execution_count": 25,
     "metadata": {},
     "output_type": "execute_result"
    }
   ],
   "source": [
    "air = pd.read_csv('../Datasets/Airquality.csv')\n",
    "imputer = IterativeImputer(initial_strategy='mean').set_output(transform='pandas')\n",
    "\n",
    "print(air.isnull().sum().sum())\n",
    "air_imputed = imputer.fit_transform(air)\n",
    "print(air_imputed.isnull().sum().sum())\n",
    "\n",
    "X = air_imputed.drop('Temp', axis=1)\n",
    "y = air_imputed['Temp']\n",
    "\n",
    "X_train, X_test, y_train, y_test = train_test_split(X, y, test_size=0.3, random_state=25)\n",
    "\n",
    "lr.fit(X_train, y_train)\n",
    "\n",
    "y_pred = lr.predict(X_test)\n",
    "\n",
    "mean_absolute_error(y_pred, y_test)\n"
   ]
  },
  {
   "cell_type": "code",
   "execution_count": 23,
   "id": "265a83e7-a028-46eb-879b-7e4772c303c4",
   "metadata": {},
   "outputs": [
    {
     "name": "stdout",
     "output_type": "stream",
     "text": [
      "44\n",
      "0\n"
     ]
    },
    {
     "data": {
      "text/plain": [
       "5.3292808643276635"
      ]
     },
     "execution_count": 23,
     "metadata": {},
     "output_type": "execute_result"
    }
   ],
   "source": [
    "air = pd.read_csv('../Datasets/Airquality.csv')\n",
    "imputer = IterativeImputer(initial_strategy='median').set_output(transform='pandas')\n",
    "\n",
    "print(air.isnull().sum().sum())\n",
    "air_imputed = imputer.fit_transform(air)\n",
    "print(air_imputed.isnull().sum().sum())\n",
    "\n",
    "X = air_imputed.drop('Temp', axis=1)\n",
    "y = air_imputed['Temp']\n",
    "\n",
    "X_train, X_test, y_train, y_test = train_test_split(X, y, test_size=0.3, random_state=25)\n",
    "\n",
    "lr.fit(X_train, y_train)\n",
    "\n",
    "y_pred = lr.predict(X_test)\n",
    "\n",
    "mean_absolute_error(y_pred, y_test)"
   ]
  },
  {
   "cell_type": "code",
   "execution_count": null,
   "id": "c414b6f1-2050-4775-802c-330c99ef743c",
   "metadata": {},
   "outputs": [],
   "source": []
  }
 ],
 "metadata": {
  "kernelspec": {
   "display_name": "Python 3 (ipykernel)",
   "language": "python",
   "name": "python3"
  },
  "language_info": {
   "codemirror_mode": {
    "name": "ipython",
    "version": 3
   },
   "file_extension": ".py",
   "mimetype": "text/x-python",
   "name": "python",
   "nbconvert_exporter": "python",
   "pygments_lexer": "ipython3",
   "version": "3.13.7"
  }
 },
 "nbformat": 4,
 "nbformat_minor": 5
}
