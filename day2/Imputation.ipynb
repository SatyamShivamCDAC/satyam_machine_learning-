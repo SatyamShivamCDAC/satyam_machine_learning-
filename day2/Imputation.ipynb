{
 "cells": [
  {
   "cell_type": "code",
   "execution_count": 13,
   "id": "9774a087-0b9a-4bf8-b296-355e35e175bd",
   "metadata": {},
   "outputs": [],
   "source": [
    "import pandas as pd\n",
    "import numpy as np\n",
    "from sklearn.linear_model import LinearRegression\n",
    "from sklearn.model_selection import train_test_split\n",
    "from sklearn.impute import SimpleImputer\n",
    "from sklearn.metrics import mean_absolute_error"
   ]
  },
  {
   "cell_type": "markdown",
   "id": "ffba433f-8ac4-43fd-87c1-dccc8bea6037",
   "metadata": {},
   "source": [
    "<h1 style = 'color: Orange'>Chemical Process(Imputation)</h1>"
   ]
  },
  {
   "cell_type": "code",
   "execution_count": 16,
   "id": "f0eba9c5-cdf4-45c6-8574-6dbaf4bc9039",
   "metadata": {},
   "outputs": [
    {
     "data": {
      "text/plain": [
       "4.169537497721093"
      ]
     },
     "execution_count": 16,
     "metadata": {},
     "output_type": "execute_result"
    }
   ],
   "source": [
    "#imputing uisng median\n",
    "\n",
    "chem = pd.read_csv('../Datasets/ChemicalProcess.csv')\n",
    "impute = SimpleImputer(strategy='median').set_output(transform='pandas') #creating imputer with strategy median\n",
    "lr = LinearRegression()\n",
    "\n",
    "X = chem.drop('Yield', axis = 1) #parameters\n",
    "y = chem['Yield'] #output\n",
    "\n",
    "X_train,X_test,y_train,y_test = train_test_split(X,y,train_size=0.3,random_state=25) #spliting data\n",
    "X_train_imp = X_train\n",
    "\n",
    "X_train_imp = impute.fit_transform(X_train) #imputing training set\n",
    "X_test_imp = impute.transform(X_test) #imputing test set with training set median\n",
    "\n",
    "lr.fit(X_train_imp,y_train)\n",
    "y_pred = lr.predict(X_test_imp)\n",
    "\n",
    "mean_absolute_error(y_pred,y_test)\n"
   ]
  },
  {
   "cell_type": "code",
   "execution_count": 17,
   "id": "db5a848e-c6be-42b6-949d-0de3c2b72a60",
   "metadata": {},
   "outputs": [
    {
     "data": {
      "text/plain": [
       "14.661648013656915"
      ]
     },
     "execution_count": 17,
     "metadata": {},
     "output_type": "execute_result"
    }
   ],
   "source": [
    "#imputing uisng mean\n",
    "\n",
    "chem = pd.read_csv('../Datasets/ChemicalProcess.csv')\n",
    "impute = SimpleImputer(strategy='mean').set_output(transform='pandas')\n",
    "lr = LinearRegression()\n",
    "\n",
    "X = chem.drop('Yield', axis = 1)\n",
    "y = chem['Yield']\n",
    "\n",
    "X_train,X_test,y_train,y_test = train_test_split(X,y,train_size=0.3,random_state=25)\n",
    "X_train_imp = X_train\n",
    "\n",
    "X_train_imp = impute.fit_transform(X_train)\n",
    "X_test_imp = impute.transform(X_test)\n",
    "\n",
    "lr.fit(X_train_imp,y_train)\n",
    "y_pred = lr.predict(X_test_imp)\n",
    "\n",
    "mean_absolute_error(y_pred,y_test)\n"
   ]
  },
  {
   "cell_type": "code",
   "execution_count": null,
   "id": "e7e996c3-c1e9-487c-8222-1947bdcdc525",
   "metadata": {},
   "outputs": [],
   "source": []
  }
 ],
 "metadata": {
  "kernelspec": {
   "display_name": "Python 3 (ipykernel)",
   "language": "python",
   "name": "python3"
  },
  "language_info": {
   "codemirror_mode": {
    "name": "ipython",
    "version": 3
   },
   "file_extension": ".py",
   "mimetype": "text/x-python",
   "name": "python",
   "nbconvert_exporter": "python",
   "pygments_lexer": "ipython3",
   "version": "3.13.7"
  }
 },
 "nbformat": 4,
 "nbformat_minor": 5
}
