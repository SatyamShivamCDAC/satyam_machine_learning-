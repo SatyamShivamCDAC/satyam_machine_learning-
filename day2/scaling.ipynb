{
 "cells": [
  {
   "cell_type": "code",
   "execution_count": 13,
   "id": "ce873980-efee-4f55-b1f3-23b6b289b8a8",
   "metadata": {},
   "outputs": [],
   "source": [
    "from sklearn.preprocessing import StandardScaler,MinMaxScaler\n",
    "import pandas as pd \n",
    "import numpy as np"
   ]
  },
  {
   "cell_type": "markdown",
   "id": "45b88045-3e38-4364-b42f-ef4f45dbf1c9",
   "metadata": {},
   "source": [
    "<h1 style = 'color:Orange'>Standard Scaler</h1>"
   ]
  },
  {
   "cell_type": "code",
   "execution_count": 4,
   "id": "d5a28b65-9ee2-446d-a2ae-d4f39033d870",
   "metadata": {},
   "outputs": [
    {
     "data": {
      "text/html": [
       "<div>\n",
       "<style scoped>\n",
       "    .dataframe tbody tr th:only-of-type {\n",
       "        vertical-align: middle;\n",
       "    }\n",
       "\n",
       "    .dataframe tbody tr th {\n",
       "        vertical-align: top;\n",
       "    }\n",
       "\n",
       "    .dataframe thead th {\n",
       "        text-align: right;\n",
       "    }\n",
       "</style>\n",
       "<table border=\"1\" class=\"dataframe\">\n",
       "  <thead>\n",
       "    <tr style=\"text-align: right;\">\n",
       "      <th></th>\n",
       "      <th>X1</th>\n",
       "      <th>X2</th>\n",
       "      <th>X3</th>\n",
       "    </tr>\n",
       "  </thead>\n",
       "  <tbody>\n",
       "    <tr>\n",
       "      <th>0</th>\n",
       "      <td>0.35</td>\n",
       "      <td>61.0</td>\n",
       "      <td>92.0</td>\n",
       "    </tr>\n",
       "    <tr>\n",
       "      <th>1</th>\n",
       "      <td>0.42</td>\n",
       "      <td>67.0</td>\n",
       "      <td>98.0</td>\n",
       "    </tr>\n",
       "    <tr>\n",
       "      <th>2</th>\n",
       "      <td>0.53</td>\n",
       "      <td>64.0</td>\n",
       "      <td>94.0</td>\n",
       "    </tr>\n",
       "    <tr>\n",
       "      <th>3</th>\n",
       "      <td>0.60</td>\n",
       "      <td>63.0</td>\n",
       "      <td>99.0</td>\n",
       "    </tr>\n",
       "  </tbody>\n",
       "</table>\n",
       "</div>"
      ],
      "text/plain": [
       "     X1    X2    X3\n",
       "0  0.35  61.0  92.0\n",
       "1  0.42  67.0  98.0\n",
       "2  0.53  64.0  94.0\n",
       "3  0.60  63.0  99.0"
      ]
     },
     "execution_count": 4,
     "metadata": {},
     "output_type": "execute_result"
    }
   ],
   "source": [
    "arr = np.array([[0.35,61,92],\n",
    "                [0.42,67,98],\n",
    "                [0.53,64,94],\n",
    "                [0.6,63,99]])\n",
    "df = pd.DataFrame(arr,columns=['X1','X2','X3'])\n",
    "df "
   ]
  },
  {
   "cell_type": "code",
   "execution_count": 15,
   "id": "9e1d2a45-2890-4e6f-a3b3-9ced6115e90d",
   "metadata": {},
   "outputs": [
    {
     "name": "stdout",
     "output_type": "stream",
     "text": [
      "X1    0.500000\n",
      "X2    0.458333\n",
      "X3    0.535714\n",
      "dtype: float64\n",
      "X1    0.446019\n",
      "X2    0.416667\n",
      "X3    0.472005\n",
      "dtype: float64\n"
     ]
    },
    {
     "data": {
      "text/html": [
       "<div>\n",
       "<style scoped>\n",
       "    .dataframe tbody tr th:only-of-type {\n",
       "        vertical-align: middle;\n",
       "    }\n",
       "\n",
       "    .dataframe tbody tr th {\n",
       "        vertical-align: top;\n",
       "    }\n",
       "\n",
       "    .dataframe thead th {\n",
       "        text-align: right;\n",
       "    }\n",
       "</style>\n",
       "<table border=\"1\" class=\"dataframe\">\n",
       "  <thead>\n",
       "    <tr style=\"text-align: right;\">\n",
       "      <th></th>\n",
       "      <th>X1</th>\n",
       "      <th>X2</th>\n",
       "      <th>X3</th>\n",
       "    </tr>\n",
       "  </thead>\n",
       "  <tbody>\n",
       "    <tr>\n",
       "      <th>0</th>\n",
       "      <td>-1.294451</td>\n",
       "      <td>-1.270171</td>\n",
       "      <td>-1.310556</td>\n",
       "    </tr>\n",
       "    <tr>\n",
       "      <th>1</th>\n",
       "      <td>-0.569558</td>\n",
       "      <td>1.501111</td>\n",
       "      <td>0.786334</td>\n",
       "    </tr>\n",
       "    <tr>\n",
       "      <th>2</th>\n",
       "      <td>0.569558</td>\n",
       "      <td>0.115470</td>\n",
       "      <td>-0.611593</td>\n",
       "    </tr>\n",
       "    <tr>\n",
       "      <th>3</th>\n",
       "      <td>1.294451</td>\n",
       "      <td>-0.346410</td>\n",
       "      <td>1.135815</td>\n",
       "    </tr>\n",
       "  </tbody>\n",
       "</table>\n",
       "</div>"
      ],
      "text/plain": [
       "         X1        X2        X3\n",
       "0 -1.294451 -1.270171 -1.310556\n",
       "1 -0.569558  1.501111  0.786334\n",
       "2  0.569558  0.115470 -0.611593\n",
       "3  1.294451 -0.346410  1.135815"
      ]
     },
     "execution_count": 15,
     "metadata": {},
     "output_type": "execute_result"
    }
   ],
   "source": [
    "#Scaling the columns \n",
    "scalar = StandardScaler().set_output(transform='pandas') #initializing the scandard scalar\n",
    "scalar.fit(df) #scaling\n",
    "scaled_arr = scalar.transform(df)\n",
    "\n",
    "print(scalared_arr.mean())\n",
    "print(scalared_arr.std())\n",
    "\n",
    "scaled_arr"
   ]
  },
  {
   "cell_type": "markdown",
   "id": "c3a592a4-6cb9-47dd-9174-1904e12d4f83",
   "metadata": {},
   "source": [
    "<h1 style = 'color:Orange'>Min max Scaler</h1>"
   ]
  },
  {
   "cell_type": "code",
   "execution_count": 18,
   "id": "53dc4680-2357-4e5e-a1bd-da31a10f9a0a",
   "metadata": {},
   "outputs": [
    {
     "data": {
      "text/html": [
       "<div>\n",
       "<style scoped>\n",
       "    .dataframe tbody tr th:only-of-type {\n",
       "        vertical-align: middle;\n",
       "    }\n",
       "\n",
       "    .dataframe tbody tr th {\n",
       "        vertical-align: top;\n",
       "    }\n",
       "\n",
       "    .dataframe thead th {\n",
       "        text-align: right;\n",
       "    }\n",
       "</style>\n",
       "<table border=\"1\" class=\"dataframe\">\n",
       "  <thead>\n",
       "    <tr style=\"text-align: right;\">\n",
       "      <th></th>\n",
       "      <th>X1</th>\n",
       "      <th>X2</th>\n",
       "      <th>X3</th>\n",
       "    </tr>\n",
       "  </thead>\n",
       "  <tbody>\n",
       "    <tr>\n",
       "      <th>0</th>\n",
       "      <td>0.00</td>\n",
       "      <td>0.000000</td>\n",
       "      <td>0.000000</td>\n",
       "    </tr>\n",
       "    <tr>\n",
       "      <th>1</th>\n",
       "      <td>0.28</td>\n",
       "      <td>1.000000</td>\n",
       "      <td>0.857143</td>\n",
       "    </tr>\n",
       "    <tr>\n",
       "      <th>2</th>\n",
       "      <td>0.72</td>\n",
       "      <td>0.500000</td>\n",
       "      <td>0.285714</td>\n",
       "    </tr>\n",
       "    <tr>\n",
       "      <th>3</th>\n",
       "      <td>1.00</td>\n",
       "      <td>0.333333</td>\n",
       "      <td>1.000000</td>\n",
       "    </tr>\n",
       "  </tbody>\n",
       "</table>\n",
       "</div>"
      ],
      "text/plain": [
       "     X1        X2        X3\n",
       "0  0.00  0.000000  0.000000\n",
       "1  0.28  1.000000  0.857143\n",
       "2  0.72  0.500000  0.285714\n",
       "3  1.00  0.333333  1.000000"
      ]
     },
     "execution_count": 18,
     "metadata": {},
     "output_type": "execute_result"
    }
   ],
   "source": [
    "scalar = MinMaxScaler().set_output(transform='pandas') #initializing the scandard scalar\n",
    "scalar.fit(df) #scaling\n",
    "scaled_arr = scalar.transform(df)\n",
    "\n",
    "scaled_arr #scalrs columns value in range of [0,1] 0->minimum value of column 1->maximum value of column"
   ]
  },
  {
   "cell_type": "code",
   "execution_count": null,
   "id": "c56991ee-e693-477a-86da-92ecbfbb2cb8",
   "metadata": {},
   "outputs": [],
   "source": []
  }
 ],
 "metadata": {
  "kernelspec": {
   "display_name": "Python 3 (ipykernel)",
   "language": "python",
   "name": "python3"
  },
  "language_info": {
   "codemirror_mode": {
    "name": "ipython",
    "version": 3
   },
   "file_extension": ".py",
   "mimetype": "text/x-python",
   "name": "python",
   "nbconvert_exporter": "python",
   "pygments_lexer": "ipython3",
   "version": "3.13.7"
  }
 },
 "nbformat": 4,
 "nbformat_minor": 5
}
