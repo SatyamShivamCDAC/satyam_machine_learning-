{
 "cells": [
  {
   "cell_type": "code",
   "execution_count": 2,
   "id": "9774a087-0b9a-4bf8-b296-355e35e175bd",
   "metadata": {},
   "outputs": [],
   "source": [
    "import pandas as pd\n",
    "import numpy as np\n",
    "from sklearn.linear_model import LinearRegression\n",
    "from sklearn.model_selection import train_test_split\n",
    "from sklearn.impute import SimpleImputer"
   ]
  },
  {
   "cell_type": "markdown",
   "id": "ffba433f-8ac4-43fd-87c1-dccc8bea6037",
   "metadata": {},
   "source": [
    "<h1 style = 'color: Orange'>Chemical Process(Imputation)</h1>"
   ]
  },
  {
   "cell_type": "code",
   "execution_count": null,
   "id": "f0eba9c5-cdf4-45c6-8574-6dbaf4bc9039",
   "metadata": {},
   "outputs": [],
   "source": [
    "chem = pd.read_csv('../Datasets/ChemicalProcess.csv')\n",
    "impute = SimpleImputer(strategy='mean').set_output(transform='pandas')\n",
    "\n",
    "X_train,X_test,y_train,t_test"
   ]
  }
 ],
 "metadata": {
  "kernelspec": {
   "display_name": "Python 3 (ipykernel)",
   "language": "python",
   "name": "python3"
  },
  "language_info": {
   "codemirror_mode": {
    "name": "ipython",
    "version": 3
   },
   "file_extension": ".py",
   "mimetype": "text/x-python",
   "name": "python",
   "nbconvert_exporter": "python",
   "pygments_lexer": "ipython3",
   "version": "3.13.7"
  }
 },
 "nbformat": 4,
 "nbformat_minor": 5
}
