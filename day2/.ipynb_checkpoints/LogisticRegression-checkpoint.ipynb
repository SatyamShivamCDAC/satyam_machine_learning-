{
 "cells": [
  {
   "cell_type": "code",
   "execution_count": 36,
   "id": "d9b71db3-1b7a-4bd5-8044-f8c4925b47ea",
   "metadata": {},
   "outputs": [],
   "source": [
    "import pandas as pd\n",
    "import numpy as np\n",
    "from sklearn.model_selection import train_test_split\n",
    "from sklearn.metrics import accuracy_score, confusion_matrix, ConfusionMatrixDisplay\n",
    "from sklearn.linear_model import LogisticRegression\n",
    "import matplotlib.pyplot as plt"
   ]
  },
  {
   "cell_type": "markdown",
   "id": "332211e2-9ffe-453e-a75e-b3b8f4cb1b55",
   "metadata": {},
   "source": [
    "<h1 style = 'color:Orange'>Logistic Regression</h1>"
   ]
  },
  {
   "cell_type": "code",
   "execution_count": 72,
   "id": "bdec6a6f-2428-415b-a307-e79a911debc1",
   "metadata": {},
   "outputs": [
    {
     "name": "stderr",
     "output_type": "stream",
     "text": [
      "C:\\Users\\dai\\AppData\\Local\\Programs\\Python\\Python313\\Lib\\site-packages\\sklearn\\linear_model\\_logistic.py:473: ConvergenceWarning: lbfgs failed to converge after 100 iteration(s) (status=1):\n",
      "STOP: TOTAL NO. OF ITERATIONS REACHED LIMIT\n",
      "\n",
      "Increase the number of iterations to improve the convergence (max_iter=100).\n",
      "You might also want to scale the data as shown in:\n",
      "    https://scikit-learn.org/stable/modules/preprocessing.html\n",
      "Please also refer to the documentation for alternative solver options:\n",
      "    https://scikit-learn.org/stable/modules/linear_model.html#logistic-regression\n",
      "  n_iter_i = _check_optimize_result(\n"
     ]
    },
    {
     "data": {
      "text/plain": [
       "0.7983996443654146"
      ]
     },
     "execution_count": 72,
     "metadata": {},
     "output_type": "execute_result"
    }
   ],
   "source": [
    "#logistic regression on hr dataset\n",
    "\n",
    "hr = pd.read_csv('../Cases/HRAnalytics/HR_comma_sep.csv')\n",
    "hr_dummy = pd.get_dummies(hr,drop_first=True) #converting categorical data into numerical data\n",
    "\n",
    "X = hr_dummy.drop('left',axis=1)\n",
    "y = hr_dummy['left']\n",
    "\n",
    "X_train,X_test,y_train,y_test = train_test_split(X,y,test_size = 0.3,random_state=25) #spliting dataset\n",
    "\n",
    "lr = LogisticRegression() #creating logistic regression\n",
    "\n",
    "lr.fit(X_train,y_train) #training data\n",
    "\n",
    "y_pred_prob = lr.predict_proba(X_test) #predicting probablity of leaving not-leaving\n",
    "y_pred = y_pred_prob.argmax(axis = 1) #getting left as a output 0->left 1->not left\n",
    "accuracy_score(y_test,y_pred)"
   ]
  },
  {
   "cell_type": "code",
   "execution_count": 73,
   "id": "13ba47d6-bbd0-469d-af74-c6b96054ce2c",
   "metadata": {},
   "outputs": [
    {
     "data": {
      "text/plain": [
       "<sklearn.metrics._plot.confusion_matrix.ConfusionMatrixDisplay at 0x24f963f5750>"
      ]
     },
     "execution_count": 73,
     "metadata": {},
     "output_type": "execute_result"
    },
    {
     "data": {
      "image/png": "[encoded data removed]",
      "text/plain": [
       "<Figure size 640x480 with 2 Axes>"
      ]
     },
     "metadata": {},
     "output_type": "display_data"
    }
   ],
   "source": [
    "# Displaying output using confusion matrix\n",
    "\n",
    "con_matrix = confusion_matrix(y_pred,y_test) #gives confusion matrix \n",
    "disp = ConfusionMatrixDisplay(con_matrix)\n",
    "disp.plot() #plot \n"
   ]
  },
  {
   "cell_type": "code",
   "execution_count": 15,
   "id": "534856b5-e857-4116-a99a-a0c92716dee2",
   "metadata": {},
   "outputs": [
    {
     "data": {
      "text/plain": [
       "left\n",
       "0    11428\n",
       "1     3567\n",
       "Name: count, dtype: int64"
      ]
     },
     "execution_count": 15,
     "metadata": {},
     "output_type": "execute_result"
    }
   ],
   "source": [
    "hr = pd.read_csv('../Cases/HRAnalytics/HR_comma_sep.csv')\n",
    "\n",
    "hr_dummy = pd.get_dummies(hr, drop_first=True)\n",
    "\n",
    "hr_dummy.dtypes\n",
    "\n",
    "X = hr_dummy.drop('left', axis=1)\n",
    "y = hr_dummy['left']\n",
    "\n",
    "y.value_counts()"
   ]
  },
  {
   "cell_type": "code",
   "execution_count": 63,
   "id": "6403f4aa-0bba-47e9-9c5e-fe3729f8eabf",
   "metadata": {},
   "outputs": [
    {
     "name": "stderr",
     "output_type": "stream",
     "text": [
      "C:\\Users\\dai\\AppData\\Local\\Programs\\Python\\Python313\\Lib\\site-packages\\sklearn\\linear_model\\_logistic.py:473: ConvergenceWarning: lbfgs failed to converge after 100 iteration(s) (status=1):\n",
      "STOP: TOTAL NO. OF ITERATIONS REACHED LIMIT\n",
      "\n",
      "Increase the number of iterations to improve the convergence (max_iter=100).\n",
      "You might also want to scale the data as shown in:\n",
      "    https://scikit-learn.org/stable/modules/preprocessing.html\n",
      "Please also refer to the documentation for alternative solver options:\n",
      "    https://scikit-learn.org/stable/modules/linear_model.html#logistic-regression\n",
      "  n_iter_i = _check_optimize_result(\n"
     ]
    },
    {
     "data": {
      "text/plain": [
       "array([[0.61099181, 0.38900819],\n",
       "       [0.61344312, 0.38655688],\n",
       "       [0.5404661 , 0.4595339 ],\n",
       "       ...,\n",
       "       [0.94840852, 0.05159148],\n",
       "       [0.9446712 , 0.0553288 ],\n",
       "       [0.78286529, 0.21713471]], shape=(4499, 2))"
      ]
     },
     "execution_count": 63,
     "metadata": {},
     "output_type": "execute_result"
    }
   ],
   "source": [
    "X_train, X_test, y_train, y_test = train_test_split(X, y, test_size=0.3, random_state=25)\n",
    "\n",
    "lr = LogisticRegression()\n",
    "lr.fit(X_train, y_train)\n",
    "y_pred_prob = lr.predict_proba(X_test)\n",
    "y_pred = y_pred_prob.argmax(axis=1)\n",
    "# tabulate the prediction using confusion matrix\n",
    "# confusion_matrix(y_test, y_pred)\n",
    "# disp = ConfusionMatrixDisplay(confusion_matrix(y_test, y_pred))\n",
    "# disp.plot()\n",
    "# plt.show()\n",
    "\n",
    "# print((3156 + 436) / (3156 + 251 + 656 + 436))\n",
    "# print(accuracy_score(y_test, y_pred))\n",
    "y_pred_prob"
   ]
  },
  {
   "cell_type": "code",
   "execution_count": 29,
   "id": "f9b1927a-80a1-4ccd-b5a7-efe8c5e33353",
   "metadata": {},
   "outputs": [
    {
     "name": "stdout",
     "output_type": "stream",
     "text": [
      "[[  9  19]\n",
      " [ 34   2]\n",
      " [ 56  22]\n",
      " [102 200]]\n"
     ]
    },
    {
     "data": {
      "text/plain": [
       "array([1, 0, 0, 1])"
      ]
     },
     "execution_count": 29,
     "metadata": {},
     "output_type": "execute_result"
    }
   ],
   "source": [
    "# argmax function\n",
    "\n",
    "array = np.array([9, 4, 5, 89, 23, 45])\n",
    "\n",
    "array.argmax()\n",
    "\n",
    "array = np.array([[9, 19], [34, 2], [56, 22], [102, 200]])\n",
    "print(array)\n",
    "array.argmax(axis=1)"
   ]
  },
  {
   "cell_type": "markdown",
   "id": "552ff667-c7f9-4276-a8b7-623f36bbae80",
   "metadata": {},
   "source": [
    "<h1 style = 'color: Orange'>Statification of dataset</h1>"
   ]
  },
  {
   "cell_type": "code",
   "execution_count": 75,
   "id": "51de412a-c55e-424e-b3e1-f3e98518fcd9",
   "metadata": {},
   "outputs": [
    {
     "data": {
      "text/plain": [
       "left\n",
       "0    76.212071\n",
       "1    23.787929\n",
       "Name: proportion, dtype: float64"
      ]
     },
     "execution_count": 75,
     "metadata": {},
     "output_type": "execute_result"
    }
   ],
   "source": [
    "hr = pd.read_csv('../Cases/HRAnalytics/HR_comma_sep.csv')\n",
    "hr_dummy = pd.get_dummies(hr,drop_first=True) #converting categorical data into numerical data\n",
    "\n",
    "X = hr_dummy.drop('left',axis=1)\n",
    "y = hr_dummy['left']\n",
    "\n",
    "y.value_counts(normalize=True)*100 #original distribution "
   ]
  },
  {
   "cell_type": "code",
   "execution_count": 84,
   "id": "bd530094-52ae-481d-bad7-f0be23cc47d0",
   "metadata": {},
   "outputs": [
    {
     "name": "stderr",
     "output_type": "stream",
     "text": [
      "C:\\Users\\dai\\AppData\\Local\\Programs\\Python\\Python313\\Lib\\site-packages\\sklearn\\linear_model\\_sag.py:348: ConvergenceWarning: The max_iter was reached which means the coef_ did not converge\n",
      "  warnings.warn(\n"
     ]
    },
    {
     "data": {
      "text/plain": [
       "0.7795065570126695"
      ]
     },
     "execution_count": 84,
     "metadata": {},
     "output_type": "execute_result"
    }
   ],
   "source": [
    "X_train,X_test,y_train,y_test = train_test_split(X,y,test_size=0.3,random_state=25,stratify=y) #statify dataset the proportion of y distribution\n",
    "\n",
    "lr = LogisticRegression(solver='saga',penalty='l1',max_iter=1000)\n",
    "\n",
    "lr.fit(X_train,y_train) #training model\n",
    "\n",
    "y_pred_prob = lr.predict_proba(X_test) #predictiin for test case\n",
    "y_pred = y_pred_prob.argmax(axis = 1) \n",
    "\n",
    "accuracy_score(y_pred,y_test)"
   ]
  },
  {
   "cell_type": "code",
   "execution_count": 82,
   "id": "fbff3e8f-1002-43b4-8b0b-8df8541beddb",
   "metadata": {},
   "outputs": [
    {
     "data": {
      "text/plain": [
       "left\n",
       "0    76.209985\n",
       "1    23.790015\n",
       "Name: proportion, dtype: float64"
      ]
     },
     "execution_count": 82,
     "metadata": {},
     "output_type": "execute_result"
    }
   ],
   "source": [
    "#comparing distribution in test train split\n",
    "\n",
    "# y_test.value_counts(normalize=True)*100\n",
    "y_train.value_counts(normalize=True)*100"
   ]
  },
  {
   "cell_type": "markdown",
   "id": "7af4b9a8-d839-42b8-a887-43535281a149",
   "metadata": {},
   "source": [
    "<h1 style= 'color:ORange'>Solver and Penalty</h1>"
   ]
  },
  {
   "cell_type": "code",
   "execution_count": 91,
   "id": "a7791cd0-80d8-409a-9ee0-34f24e972871",
   "metadata": {},
   "outputs": [
    {
     "name": "stderr",
     "output_type": "stream",
     "text": [
      "C:\\Users\\dai\\AppData\\Local\\Programs\\Python\\Python313\\Lib\\site-packages\\sklearn\\linear_model\\_logistic.py:1221: UserWarning: l1_ratio parameter is only used when penalty is 'elasticnet'. Got (penalty=l1)\n",
      "  warnings.warn(\n",
      "C:\\Users\\dai\\AppData\\Local\\Programs\\Python\\Python313\\Lib\\site-packages\\sklearn\\linear_model\\_logistic.py:1221: UserWarning: l1_ratio parameter is only used when penalty is 'elasticnet'. Got (penalty=l2)\n",
      "  warnings.warn(\n",
      "C:\\Users\\dai\\AppData\\Local\\Programs\\Python\\Python313\\Lib\\site-packages\\sklearn\\linear_model\\_logistic.py:1221: UserWarning: l1_ratio parameter is only used when penalty is 'elasticnet'. Got (penalty=None)\n",
      "  warnings.warn(\n"
     ]
    },
    {
     "data": {
      "text/html": [
       "<div>\n",
       "<style scoped>\n",
       "    .dataframe tbody tr th:only-of-type {\n",
       "        vertical-align: middle;\n",
       "    }\n",
       "\n",
       "    .dataframe tbody tr th {\n",
       "        vertical-align: top;\n",
       "    }\n",
       "\n",
       "    .dataframe thead th {\n",
       "        text-align: right;\n",
       "    }\n",
       "</style>\n",
       "<table border=\"1\" class=\"dataframe\">\n",
       "  <thead>\n",
       "    <tr style=\"text-align: right;\">\n",
       "      <th></th>\n",
       "      <th>method</th>\n",
       "      <th>score</th>\n",
       "    </tr>\n",
       "  </thead>\n",
       "  <tbody>\n",
       "    <tr>\n",
       "      <th>0</th>\n",
       "      <td>l1</td>\n",
       "      <td>0.796844</td>\n",
       "    </tr>\n",
       "    <tr>\n",
       "      <th>1</th>\n",
       "      <td>l2</td>\n",
       "      <td>0.797288</td>\n",
       "    </tr>\n",
       "    <tr>\n",
       "      <th>2</th>\n",
       "      <td>elasticnet</td>\n",
       "      <td>0.796844</td>\n",
       "    </tr>\n",
       "    <tr>\n",
       "      <th>3</th>\n",
       "      <td>None</td>\n",
       "      <td>0.799066</td>\n",
       "    </tr>\n",
       "  </tbody>\n",
       "</table>\n",
       "</div>"
      ],
      "text/plain": [
       "       method     score\n",
       "0          l1  0.796844\n",
       "1          l2  0.797288\n",
       "2  elasticnet  0.796844\n",
       "3        None  0.799066"
      ]
     },
     "execution_count": 91,
     "metadata": {},
     "output_type": "execute_result"
    }
   ],
   "source": [
    "penalties = ['l1','l2','elasticnet',None]\n",
    "\n",
    "hr = pd.read_csv('../Cases/HRAnalytics/HR_comma_sep.csv')\n",
    "hr_dummy = pd.get_dummies(hr,drop_first=True) #converting categorical data into numerical data\n",
    "\n",
    "X = hr_dummy.drop('left',axis=1)\n",
    "y = hr_dummy['left']\n",
    "\n",
    "X_train,X_test,y_train,y_test = train_test_split(X,y,test_size=0.3,random_state=25,stratify=y)\n",
    "\n",
    "score = []\n",
    "\n",
    "for p in penalties:\n",
    "    lr = LogisticRegression(solver='saga',penalty = p,l1_ratio=0.5,max_iter=10000)\n",
    "    lr.fit(X_train,y_train)\n",
    "    y_pred = lr.predict(X_test)\n",
    "    score.append([p,accuracy_score(y_pred,y_test)])\n",
    "df = pd.DataFrame(score,columns=['method','score'])\n",
    "df"
   ]
  },
  {
   "cell_type": "code",
   "execution_count": null,
   "id": "f537239e-4e9b-4374-9252-da30d4d77ebd",
   "metadata": {},
   "outputs": [],
   "source": [
    "#using sag, newtom-cg,'newton-choklesky','lgfs'\n",
    "penalties = ['l2',None]\n",
    "scores = ['sag', 'newtom-cg','newton-choklesky','lgfs']\n",
    "hr = pd.read_csv('../Cases/HRAnalytics/HR_comma_sep.csv')\n",
    "hr_dummy = pd.get_dummies(hr,drop_first=True) #converting categorical data into numerical data\n",
    "\n",
    "X = hr_dummy.drop('left',axis=1)\n",
    "y = hr_dummy['left']\n",
    "\n",
    "X_train,X_test,y_train,y_test = train_test_split(X,y,test_size=0.3,random_state=25,stratify=y)\n",
    "\n",
    "score = []\n",
    "for "
   ]
  }
 ],
 "metadata": {
  "kernelspec": {
   "display_name": "Python 3 (ipykernel)",
   "language": "python",
   "name": "python3"
  },
  "language_info": {
   "codemirror_mode": {
    "name": "ipython",
    "version": 3
   },
   "file_extension": ".py",
   "mimetype": "text/x-python",
   "name": "python",
   "nbconvert_exporter": "python",
   "pygments_lexer": "ipython3",
   "version": "3.13.7"
  }
 },
 "nbformat": 4,
 "nbformat_minor": 5
}
