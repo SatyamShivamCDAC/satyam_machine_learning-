{
 "cells": [
  {
   "cell_type": "code",
   "execution_count": 5,
   "id": "d38fb83d-ebde-48eb-b704-9a51b4768ada",
   "metadata": {},
   "outputs": [],
   "source": [
    "import pandas as pd\n",
    "import numpy as np\n",
    "from sklearn.naive_bayes import BernoulliNB\n",
    "from sklearn.model_selection import train_test_split\n",
    "from sklearn.preprocessing import StandardScaler,OneHotEncoder\n",
    "from sklearn.metrics import accuracy_score,classification_report\n",
    "from ucimlrepo import fetch_ucirepo"
   ]
  },
  {
   "cell_type": "markdown",
   "id": "8ef019e7-f4ef-45a3-a894-4d72f2ad6e8f",
   "metadata": {},
   "source": [
    "<h1 style = 'color:orange'>Naive Bayes </h1>"
   ]
  },
  {
   "cell_type": "code",
   "execution_count": 11,
   "id": "cbcdd612-6d04-47cf-b901-23b6d0ddccbb",
   "metadata": {},
   "outputs": [
    {
     "name": "stdout",
     "output_type": "stream",
     "text": [
      "              precision    recall  f1-score   support\n",
      "\n",
      "         acc       0.56      0.46      0.51       115\n",
      "        good       0.36      0.19      0.25        21\n",
      "       unacc       0.84      0.94      0.89       363\n",
      "       vgood       0.60      0.15      0.24        20\n",
      "\n",
      "    accuracy                           0.78       519\n",
      "   macro avg       0.59      0.44      0.47       519\n",
      "weighted avg       0.75      0.78      0.75       519\n",
      "\n"
     ]
    },
    {
     "name": "stderr",
     "output_type": "stream",
     "text": [
      "C:\\Users\\dai\\AppData\\Local\\Programs\\Python\\Python313\\Lib\\site-packages\\sklearn\\utils\\validation.py:1406: DataConversionWarning: A column-vector y was passed when a 1d array was expected. Please change the shape of y to (n_samples, ), for example using ravel().\n",
      "  y = column_or_1d(y, warn=True)\n"
     ]
    }
   ],
   "source": [
    "car_evaluation = fetch_ucirepo(id=19) \n",
    "  \n",
    "X = car_evaluation.data.features \n",
    "y = car_evaluation.data.targets \n",
    "\n",
    "ohe = OneHotEncoder(sparse_output = False,drop='first').set_output(transform = 'pandas')\n",
    "\n",
    "X_train,X_test,y_train,y_test = train_test_split(X,y,test_size=0.3,stratify=y,random_state=25)\n",
    "\n",
    "\n",
    "X_train_ohe = ohe.fit_transform(X_train)\n",
    "X_test_ohe = ohe.transform(X_test)\n",
    "\n",
    "nb = BernoulliNB()\n",
    "\n",
    "nb.fit(X_train_ohe,y_train)\n",
    "y_pred = nb.predict(X_test_ohe)\n",
    "print(classification_report(y_test,y_pred))\n",
    "# accuracy_score(y_test,y_pred)"
   ]
  },
  {
   "cell_type": "code",
   "execution_count": null,
   "id": "dc0bfcc8-e346-4516-a79d-1c0a325e43be",
   "metadata": {},
   "outputs": [],
   "source": []
  }
 ],
 "metadata": {
  "kernelspec": {
   "display_name": "Python 3 (ipykernel)",
   "language": "python",
   "name": "python3"
  },
  "language_info": {
   "codemirror_mode": {
    "name": "ipython",
    "version": 3
   },
   "file_extension": ".py",
   "mimetype": "text/x-python",
   "name": "python",
   "nbconvert_exporter": "python",
   "pygments_lexer": "ipython3",
   "version": "3.13.7"
  }
 },
 "nbformat": 4,
 "nbformat_minor": 5
}
