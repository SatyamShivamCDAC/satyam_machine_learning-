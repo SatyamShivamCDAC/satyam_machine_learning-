{
 "cells": [
  {
   "cell_type": "code",
   "execution_count": 24,
   "id": "fd53be60-9d4a-4859-a539-dcf60ddba926",
   "metadata": {},
   "outputs": [],
   "source": [
    "import pandas as pd\n",
    "import numpy as np \n",
    "from sklearn.svm import SVC\n",
    "from sklearn.model_selection import train_test_split\n",
    "from sklearn.preprocessing import StandardScaler,OneHotEncoder,MinMaxScaler,LabelEncoder\n",
    "from sklearn.metrics import classification_report,f1_score,accuracy_score\n",
    "from sklearn.compose import make_column_transformer,make_column_selector\n",
    "from ucimlrepo import fetch_ucirepo\n",
    "from sklearn.pipeline import Pipeline"
   ]
  },
  {
   "cell_type": "code",
   "execution_count": null,
   "id": "ec22ad45-ccbd-41ac-a579-6f385c8365a2",
   "metadata": {},
   "outputs": [],
   "source": []
  },
  {
   "cell_type": "code",
   "execution_count": 23,
   "id": "63131648-e673-401e-a789-6f5684501a9d",
   "metadata": {},
   "outputs": [
    {
     "data": {
      "text/plain": [
       "class\n",
       "unacc    1210\n",
       "acc       384\n",
       "good       69\n",
       "vgood      65\n",
       "Name: count, dtype: int64"
      ]
     },
     "execution_count": 23,
     "metadata": {},
     "output_type": "execute_result"
    }
   ],
   "source": [
    "# fetch dataset \n",
    "car_evaluation = fetch_ucirepo(id=19) \n",
    "  \n",
    "# data (as pandas dataframes) \n",
    "X = car_evaluation.data.features \n",
    "y = car_evaluation.data.targets \n",
    "\n",
    "ohe = OneHotEncoder(drop='first')\n",
    "\n",
    "\n",
    "\n",
    "pipe = Pipeline[]\n"
   ]
  },
  {
   "cell_type": "code",
   "execution_count": null,
   "id": "34e7287c-a742-4a8a-998c-47a7cfa14dd2",
   "metadata": {},
   "outputs": [],
   "source": []
  }
 ],
 "metadata": {
  "kernelspec": {
   "display_name": "Python 3 (ipykernel)",
   "language": "python",
   "name": "python3"
  },
  "language_info": {
   "codemirror_mode": {
    "name": "ipython",
    "version": 3
   },
   "file_extension": ".py",
   "mimetype": "text/x-python",
   "name": "python",
   "nbconvert_exporter": "python",
   "pygments_lexer": "ipython3",
   "version": "3.13.7"
  }
 },
 "nbformat": 4,
 "nbformat_minor": 5
}
