{
 "cells": [
  {
   "cell_type": "code",
   "execution_count": 78,
   "id": "d38fb83d-ebde-48eb-b704-9a51b4768ada",
   "metadata": {},
   "outputs": [],
   "source": [
    "import pandas as pd\n",
    "import numpy as np\n",
    "from sklearn.naive_bayes import BernoulliNB,GaussianNB\n",
    "from sklearn.model_selection import train_test_split\n",
    "from sklearn.preprocessing import StandardScaler,OneHotEncoder,LabelEncoder,OrdinalEncoder\n",
    "from sklearn.metrics import accuracy_score,classification_report\n",
    "from ucimlrepo import fetch_ucirepo\n",
    "from sklearn.compose import make_column_transformer,make_column_selector\n",
    "from sklearn.pipeline import Pipeline"
   ]
  },
  {
   "cell_type": "markdown",
   "id": "8ef019e7-f4ef-45a3-a894-4d72f2ad6e8f",
   "metadata": {},
   "source": [
    "<h1 style = 'color:orange'>Discrete Naive Bayes </h1>"
   ]
  },
  {
   "cell_type": "code",
   "execution_count": 11,
   "id": "cbcdd612-6d04-47cf-b901-23b6d0ddccbb",
   "metadata": {},
   "outputs": [
    {
     "name": "stdout",
     "output_type": "stream",
     "text": [
      "              precision    recall  f1-score   support\n",
      "\n",
      "         acc       0.56      0.46      0.51       115\n",
      "        good       0.36      0.19      0.25        21\n",
      "       unacc       0.84      0.94      0.89       363\n",
      "       vgood       0.60      0.15      0.24        20\n",
      "\n",
      "    accuracy                           0.78       519\n",
      "   macro avg       0.59      0.44      0.47       519\n",
      "weighted avg       0.75      0.78      0.75       519\n",
      "\n"
     ]
    },
    {
     "name": "stderr",
     "output_type": "stream",
     "text": [
      "C:\\Users\\dai\\AppData\\Local\\Programs\\Python\\Python313\\Lib\\site-packages\\sklearn\\utils\\validation.py:1406: DataConversionWarning: A column-vector y was passed when a 1d array was expected. Please change the shape of y to (n_samples, ), for example using ravel().\n",
      "  y = column_or_1d(y, warn=True)\n"
     ]
    }
   ],
   "source": [
    "car_evaluation = fetch_ucirepo(id=19) \n",
    "  \n",
    "X = car_evaluation.data.features \n",
    "y = car_evaluation.data.targets \n",
    "\n",
    "ohe = OneHotEncoder(sparse_output = False,drop='first').set_output(transform = 'pandas')\n",
    "\n",
    "X_train,X_test,y_train,y_test = train_test_split(X,y,test_size=0.3,stratify=y,random_state=25)\n",
    "\n",
    "\n",
    "X_train_ohe = ohe.fit_transform(X_train)\n",
    "X_test_ohe = ohe.transform(X_test)\n",
    "\n",
    "nb = BernoulliNB()\n",
    "\n",
    "nb.fit(X_train_ohe,y_train)\n",
    "y_pred = nb.predict(X_test_ohe)\n",
    "print(classification_report(y_test,y_pred))\n",
    "# accuracy_score(y_test,y_pred)"
   ]
  },
  {
   "cell_type": "markdown",
   "id": "3e5873fc-d992-4cde-9b0a-4b8f9494fb4b",
   "metadata": {},
   "source": [
    "<h1 style = 'color:orange'>Cancer Analysis</h1>"
   ]
  },
  {
   "cell_type": "code",
   "execution_count": 38,
   "id": "01714ffc-556a-4349-aaa0-4b48a6f6d7f9",
   "metadata": {},
   "outputs": [
    {
     "name": "stdout",
     "output_type": "stream",
     "text": [
      "<class 'pandas.core.frame.DataFrame'>\n",
      "RangeIndex: 286 entries, 0 to 285\n",
      "Data columns (total 9 columns):\n",
      " #   Column       Non-Null Count  Dtype \n",
      "---  ------       --------------  ----- \n",
      " 0   age          286 non-null    object\n",
      " 1   menopause    286 non-null    object\n",
      " 2   tumor-size   286 non-null    object\n",
      " 3   inv-nodes    286 non-null    object\n",
      " 4   node-caps    278 non-null    object\n",
      " 5   deg-malig    286 non-null    object\n",
      " 6   breast       286 non-null    object\n",
      " 7   breast-quad  285 non-null    object\n",
      " 8   irradiat     286 non-null    object\n",
      "dtypes: object(9)\n",
      "memory usage: 20.2+ KB\n",
      "None\n",
      "                      precision    recall  f1-score   support\n",
      "\n",
      "no-recurrence-events       0.76      0.88      0.82        60\n",
      "   recurrence-events       0.56      0.35      0.43        26\n",
      "\n",
      "            accuracy                           0.72        86\n",
      "           macro avg       0.66      0.61      0.62        86\n",
      "        weighted avg       0.70      0.72      0.70        86\n",
      "\n"
     ]
    }
   ],
   "source": [
    "cancer = pd.read_csv('../Cases/Cancer/Cancer.csv')\n",
    "\n",
    "ohe = OneHotEncoder(drop= 'first',sparse_output=False).set_output(transform='pandas')\n",
    "\n",
    "X = cancer.drop(['Class','subjid'],axis = 1)\n",
    "y = cancer['Class']\n",
    "print(X.info())\n",
    "X_train,X_test,y_train,y_test = train_test_split(X,y,test_size=0.3,random_state=42,stratify=y)\n",
    "\n",
    "X_train_ohe = ohe.fit_transform(X_train)\n",
    "X_test_ohe = ohe.transform(X_test)\n",
    "\n",
    "nb = BernoulliNB()\n",
    "\n",
    "nb.fit(X_train_ohe,y_train)\n",
    "y_pred = nb.predict(X_test_ohe)\n",
    "print(classification_report(y_test,y_pred))"
   ]
  },
  {
   "cell_type": "markdown",
   "id": "f5a73204-7042-43e7-9444-de01e9e72c99",
   "metadata": {},
   "source": [
    "<h1 style = 'color:orange'>Kernel Naive Bayes</h1>"
   ]
  },
  {
   "cell_type": "code",
   "execution_count": 35,
   "id": "830a2a92-e139-423a-9ff2-66ed9f0d2bba",
   "metadata": {},
   "outputs": [
    {
     "name": "stdout",
     "output_type": "stream",
     "text": [
      "              precision    recall  f1-score   support\n",
      "\n",
      "           M       0.75      0.80      0.77        45\n",
      "           R       0.75      0.69      0.72        39\n",
      "\n",
      "    accuracy                           0.75        84\n",
      "   macro avg       0.75      0.75      0.75        84\n",
      "weighted avg       0.75      0.75      0.75        84\n",
      "\n"
     ]
    }
   ],
   "source": [
    "sonar = pd.read_csv('../Cases/Sonar/Sonar.csv')\n",
    "sonar['Class'].value_counts()\n",
    "\n",
    "X = sonar.drop(\"Class\",axis =1)\n",
    "y = sonar['Class']\n",
    "\n",
    "X_train,X_test,y_train,y_test = train_test_split(X,y,test_size=0.4,random_state=25,stratify=y)\n",
    "\n",
    "nb = GaussianNB()\n",
    "nb.fit(X_train,y_train)\n",
    "y_pred = nb.predict(X_test)\n",
    "print(classification_report(y_test,y_pred))"
   ]
  },
  {
   "cell_type": "markdown",
   "id": "cd32c443-fd37-41a9-9b1c-4275de545303",
   "metadata": {},
   "source": [
    "<h1>Hr Analytics</h1>"
   ]
  },
  {
   "cell_type": "code",
   "execution_count": 84,
   "id": "7d87764e-915a-4476-98e0-2fdc9779834a",
   "metadata": {},
   "outputs": [
    {
     "name": "stdout",
     "output_type": "stream",
     "text": [
      "              precision    recall  f1-score   support\n",
      "\n",
      "           0       0.90      0.70      0.79      3429\n",
      "           1       0.44      0.76      0.56      1070\n",
      "\n",
      "    accuracy                           0.72      4499\n",
      "   macro avg       0.67      0.73      0.68      4499\n",
      "weighted avg       0.80      0.72      0.74      4499\n",
      "\n"
     ]
    }
   ],
   "source": [
    "hr = pd.read_csv('../Cases/HRAnalytics/HR_comma_sep.csv')\n",
    "\n",
    "ohe = OneHotEncoder()\n",
    "oe = OrdinalEncoder(categories=[['low','medium','high']])\n",
    "\n",
    "column_transform = make_column_transformer((ohe,['Department']),(oe,['salary']),remainder='passthrough',verbose_feature_names_out=False)\n",
    "nb = GaussianNB()\n",
    "\n",
    "X = hr.drop('left',axis = 1)\n",
    "y = hr['left']\n",
    "\n",
    "X_train,X_test,y_train,y_test = train_test_split(X,y,test_size=0.3,random_state=25,stratify=y)\n",
    "\n",
    "# X_train['salary'] = oe.fit_transform(X_train[['salary']])\n",
    "# X_test['salary'] = oe.transform(X_test[['salary']])\n",
    "# X_train['Department'] = le.fit_transform(X_train['Department'])\n",
    "# X_test['Department'] = le.transform(X_test['Department'])\n",
    "\n",
    "pipe = Pipeline([('column transform',column_transform),('NB',nb)])\n",
    "\n",
    "pipe.fit(X_train,y_train)\n",
    "y_pred = pipe.predict(X_test)\n",
    "print(classification_report(y_test,y_pred))\n",
    "\n",
    "# nb.fit(X_train,y_train)\n",
    "# y_pred =nb.predict (X_test)\n",
    "\n",
    "# print(classification_report(y_pred,y_test))"
   ]
  },
  {
   "cell_type": "code",
   "execution_count": null,
   "id": "a839a7e2-fefd-470e-afe3-16fc17aa6391",
   "metadata": {},
   "outputs": [],
   "source": []
  }
 ],
 "metadata": {
  "kernelspec": {
   "display_name": "Python 3 (ipykernel)",
   "language": "python",
   "name": "python3"
  },
  "language_info": {
   "codemirror_mode": {
    "name": "ipython",
    "version": 3
   },
   "file_extension": ".py",
   "mimetype": "text/x-python",
   "name": "python",
   "nbconvert_exporter": "python",
   "pygments_lexer": "ipython3",
   "version": "3.13.7"
  }
 },
 "nbformat": 4,
 "nbformat_minor": 5
}
