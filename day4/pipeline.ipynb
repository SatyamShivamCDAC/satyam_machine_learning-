{
 "cells": [
  {
   "cell_type": "code",
   "execution_count": 2,
   "id": "d8decaef-88ad-4ae8-bb73-f4d9b7572fa3",
   "metadata": {},
   "outputs": [],
   "source": [
    "import pandas as pd\n",
    "import numpy as np\n",
    "from sklearn.neighbors import KNeighborsRegressor, KNeighborsClassifier\n",
    "from sklearn.metrics import r2_score, mean_squared_error\n",
    "from sklearn.preprocessing import LabelEncoder,MinMaxScaler, StandardScaler, OneHotEncoder\n",
    "from sklearn.model_selection import train_test_split\n",
    "from sklearn.pipeline import Pipeline\n",
    "from sklearn.compose import make_column_selector, make_column_transformer"
   ]
  },
  {
   "cell_type": "code",
   "execution_count": 5,
   "id": "4465f964-42b7-4e56-898b-d4ff416a76e1",
   "metadata": {},
   "outputs": [
    {
     "data": {
      "text/plain": [
       "array([1, 1, 1, 1, 0, 0, 0, 0, 0, 0, 0, 0, 0, 0, 0])"
      ]
     },
     "execution_count": 5,
     "metadata": {},
     "output_type": "execute_result"
    }
   ],
   "source": [
    "hr = pd.read_csv('../Cases/HRAnalytics/HR_comma_sep.csv')\n",
    "\n",
    "X = hr.drop('left',axis = 1)\n",
    "y = hr['left']\n",
    "\n",
    "ohe = OneHotEncoder(sparse_output=False, drop='first').set_output(transform='pandas')\n",
    "transformer = make_column_transformer((ohe,make_column_selector(dtype_include=object)),\n",
    "                                     remainder='passthrough',\n",
    "                                     verbose_feature_names_out=False).set_output(transform='pandas')  #column transformer\n",
    "scaler = StandardScaler().set_output(transform='pandas') #scaling \n",
    "knn = KNeighborsClassifier(n_neighbors=1) #model\n",
    "\n",
    "\n",
    "pipe = Pipeline([('encode',transformer),('scaling',scaler),('KNN',knn)]) #defining pipeline of above operation in specified sqeuqnce\n",
    "pipe.fit(X,y) #creating pipeline \n",
    "\n",
    "hr_tst =pd.read_csv('../Cases/HRAnalytics/tst_hr.csv') #unlabled data\n",
    "pipe.predict(hr_tst) #predicting from unlabled data\n",
    "\n"
   ]
  },
  {
   "cell_type": "code",
   "execution_count": null,
   "id": "ea6a8bfc-518c-4466-bba2-c5a7db52decd",
   "metadata": {},
   "outputs": [],
   "source": []
  }
 ],
 "metadata": {
  "kernelspec": {
   "display_name": "Python 3 (ipykernel)",
   "language": "python",
   "name": "python3"
  },
  "language_info": {
   "codemirror_mode": {
    "name": "ipython",
    "version": 3
   },
   "file_extension": ".py",
   "mimetype": "text/x-python",
   "name": "python",
   "nbconvert_exporter": "python",
   "pygments_lexer": "ipython3",
   "version": "3.13.7"
  }
 },
 "nbformat": 4,
 "nbformat_minor": 5
}
