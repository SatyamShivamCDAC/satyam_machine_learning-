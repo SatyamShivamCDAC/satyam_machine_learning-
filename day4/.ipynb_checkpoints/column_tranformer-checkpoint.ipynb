{
 "cells": [
  {
   "cell_type": "code",
   "execution_count": 1,
   "id": "0984dd43-67fb-46f4-a804-0a4bd36e10e1",
   "metadata": {},
   "outputs": [],
   "source": [
    "import pandas as pd\n",
    "import numpy as np\n",
    "from sklearn.neighbors import KNeighborsRegressor, KNeighborsClassifier\n",
    "from sklearn.metrics import r2_score, mean_squared_error\n",
    "from sklearn.preprocessing import LabelEncoder,MinMaxScaler, StandardScaler, OneHotEncoder\n",
    "from sklearn.model_selection import train_test_split\n",
    "from sklearn.compose import make_column_selector, make_column_transformer"
   ]
  },
  {
   "cell_type": "markdown",
   "id": "2078b172-e349-424e-8777-c9807348a650",
   "metadata": {},
   "source": [
    "<h1 style = 'color : orange'>Column Trandformer</h1>"
   ]
  },
  {
   "cell_type": "code",
   "execution_count": 31,
   "id": "ace55058-7fb3-45cc-9ee4-a812b316c2be",
   "metadata": {},
   "outputs": [
    {
     "data": {
      "text/plain": [
       "array([58625., 48475., 46125., 74250.])"
      ]
     },
     "execution_count": 31,
     "metadata": {},
     "output_type": "execute_result"
    }
   ],
   "source": [
    "scaler = StandardScaler().set_output(transform='pandas')\n",
    "knr = KNeighborsRegressor(n_neighbors=4)\n",
    "\n",
    "houses = pd.read_csv('../Datasets/Housing.csv')\n",
    "\n",
    "X = houses.drop('price', axis=1)\n",
    "y = houses['price']\n",
    "\n",
    "\n",
    "\n",
    "categories = list(X.columns[X.dtypes == 'object'])\n",
    "numerics =  list(X.columns[X.dtypes != 'object'])\n",
    "\n",
    "encoder = OneHotEncoder(sparse_output=False,drop = 'first').set_output(transform=True)\n",
    "\n",
    "categories_transform = make_column_transformer((encoder,categories),remainder='passthrough',verbose_feature_names_out=False).set_output(transform='pandas')\n",
    "\n",
    "X_transformed = categories_transform.fit_transform(X)\n",
    "\n",
    "X_train, X_test, y_train, y_test = train_test_split(X_transformed, y, test_size=0.3, random_state=25)\n",
    "\n",
    "\n",
    "X_train_scaled = scaler.fit_transform(X_train)\n",
    "X_test_scaled = scaler.transform(X_test)\n",
    "\n",
    "knr.fit(X_train_scaled,y_train)\n",
    "\n",
    "tst_housing  = pd.read_csv('../Datasets/tst_Housing.csv')\n",
    "\n",
    "tst_housing = categories_transform.transform(tst_housing)\n",
    "tst_housing = scaler.transform(tst_housing)\n",
    "predictions = knr.predict(tst_housing)\n",
    "predictions\n"
   ]
  },
  {
   "cell_type": "markdown",
   "id": "37ac731b-eb07-4a08-852a-904ce000e626",
   "metadata": {},
   "source": [
    "<h1 style = 'color:orange'>Hr Example</h1>"
   ]
  },
  {
   "cell_type": "code",
   "execution_count": 35,
   "id": "32c10f07-849a-4406-88b9-76df5feee63b",
   "metadata": {},
   "outputs": [
    {
     "data": {
      "text/plain": [
       "array([1.  , 0.5 , 1.  , 0.75, 0.  , 0.  , 0.  , 0.  , 0.  , 0.  , 0.  ,\n",
       "       0.  , 0.  , 0.  , 0.  ])"
      ]
     },
     "execution_count": 35,
     "metadata": {},
     "output_type": "execute_result"
    }
   ],
   "source": [
    "hr = pd.read_csv('../Cases/HRAnalytics/HR_comma_sep.csv')\n",
    "scaler = StandardScaler().set_output(transform='pandas')\n",
    "ohe = OneHotEncoder(sparse_output=False, drop='first').set_output(transform='pandas')\n",
    "\n",
    "X = hr.drop('left',axis=1)\n",
    "y = hr['left']\n",
    "\n",
    "categoicals = list(X.columns[X.dtypes == 'object'])\n",
    "\n",
    "column_transformer = make_column_transformer((ohe,categoicals),remainder='passthrough',verbose_feature_names_out=False).set_output(transform='pandas')\n",
    "\n",
    "X_transformed = column_transformer.fit_transform(X)\n",
    "X_transformed = scaler.fit_transform(X_transformed)\n",
    "\n",
    "knr = KNeighborsRegressor(n_neighbors=4)\n",
    "knr.fit(X_transformed,y)\n",
    "\n",
    "tst_hr = pd.read_csv('../Cases/HRAnalytics/tst_hr.csv')\n",
    "\n",
    "tst_transformed = column_transformer.transform(tst_hr)\n",
    "tst_transformed = scaler.transform(tst_transformed)\n",
    "\n",
    "knr.predict(tst_transformed)\n"
   ]
  },
  {
   "cell_type": "code",
   "execution_count": null,
   "id": "0cd4cdf2-657f-4a7d-98d4-da24ec1b7594",
   "metadata": {},
   "outputs": [],
   "source": []
  }
 ],
 "metadata": {
  "kernelspec": {
   "display_name": "Python 3 (ipykernel)",
   "language": "python",
   "name": "python3"
  },
  "language_info": {
   "codemirror_mode": {
    "name": "ipython",
    "version": 3
   },
   "file_extension": ".py",
   "mimetype": "text/x-python",
   "name": "python",
   "nbconvert_exporter": "python",
   "pygments_lexer": "ipython3",
   "version": "3.13.7"
  }
 },
 "nbformat": 4,
 "nbformat_minor": 5
}
