{
 "cells": [
  {
   "cell_type": "code",
   "execution_count": 20,
   "id": "24bdac44-ba6c-4914-9b36-df61eecfe82f",
   "metadata": {},
   "outputs": [],
   "source": [
    "import pandas as pd\n",
    "import numpy as np\n",
    "from sklearn.neighbors import KNeighborsRegressor, KNeighborsClassifier\n",
    "from sklearn.metrics import r2_score, mean_squared_error\n",
    "from sklearn.preprocessing import LabelEncoder,MinMaxScaler, StandardScaler, OneHotEncoder\n",
    "from sklearn.model_selection import train_test_split\n",
    "from sklearn.compose import make_column_selector, make_column_transformer"
   ]
  },
  {
   "cell_type": "markdown",
   "id": "c66b0b15-a10d-4ecf-9cc6-72b5d8d2f35b",
   "metadata": {},
   "source": [
    "<h1 style = 'color:orange'>KNN regressor</h1>"
   ]
  },
  {
   "cell_type": "code",
   "execution_count": 2,
   "id": "68d3864c-f5a2-4db2-9c46-6c7e00b53c6f",
   "metadata": {},
   "outputs": [
    {
     "name": "stdout",
     "output_type": "stream",
     "text": [
      "0.32983086797144234\n",
      "501551542.20463413\n"
     ]
    }
   ],
   "source": [
    "# without scaling\n",
    "\n",
    "houses = pd.read_csv('../Datasets/Housing.csv')\n",
    "houses = pd.get_dummies(houses, drop_first=True)\n",
    "X = houses.drop('price', axis=1)\n",
    "y = houses['price']\n",
    "\n",
    "X_train, X_test, y_train, y_test = train_test_split(X, y, test_size=0.3, random_state=25)\n",
    "\n",
    "knr = KNeighborsRegressor()\n",
    "knr.fit(X_train, y_train)\n",
    "y_pred = knr.predict(X_test)\n",
    "\n",
    "print(r2_score(y_test, y_pred))\n",
    "print(mean_squared_error(y_test, y_pred))"
   ]
  },
  {
   "cell_type": "code",
   "execution_count": 3,
   "id": "b22ca500-359c-4983-bb49-5d8651b950ba",
   "metadata": {},
   "outputs": [
    {
     "name": "stdout",
     "output_type": "stream",
     "text": [
      "0.5722853971847756\n",
      "320099670.9831707\n"
     ]
    }
   ],
   "source": [
    "# standard scaler\n",
    "\n",
    "scaler = StandardScaler()\n",
    "\n",
    "X_train_scaled = scaler.fit_transform(X_train)\n",
    "X_test_scaled = scaler.transform(X_test)\n",
    "\n",
    "knr = KNeighborsRegressor()\n",
    "knr.fit(X_train_scaled, y_train)\n",
    "y_pred = knr.predict(X_test_scaled)\n",
    "\n",
    "print(r2_score(y_test, y_pred))\n",
    "print(mean_squared_error(y_test, y_pred))"
   ]
  },
  {
   "cell_type": "code",
   "execution_count": 4,
   "id": "70a5fd01-127f-45e9-a23d-7ae16351859b",
   "metadata": {},
   "outputs": [
    {
     "name": "stdout",
     "output_type": "stream",
     "text": [
      "0.47212307910304907\n",
      "395060696.04951215\n"
     ]
    }
   ],
   "source": [
    "# MinMaxScaler\n",
    "\n",
    "scaler = MinMaxScaler()\n",
    "\n",
    "X_train_scaled = scaler.fit_transform(X_train)\n",
    "X_test_scaled = scaler.transform(X_test)\n",
    "\n",
    "knr = KNeighborsRegressor()\n",
    "knr.fit(X_train_scaled, y_train)\n",
    "y_pred = knr.predict(X_test_scaled)\n",
    "\n",
    "print(r2_score(y_test, y_pred))\n",
    "print(mean_squared_error(y_test, y_pred))"
   ]
  },
  {
   "cell_type": "code",
   "execution_count": 5,
   "id": "2a7430e2-6949-4caa-b123-810c629b9c7c",
   "metadata": {},
   "outputs": [
    {
     "data": {
      "text/html": [
       "<div>\n",
       "<style scoped>\n",
       "    .dataframe tbody tr th:only-of-type {\n",
       "        vertical-align: middle;\n",
       "    }\n",
       "\n",
       "    .dataframe tbody tr th {\n",
       "        vertical-align: top;\n",
       "    }\n",
       "\n",
       "    .dataframe thead th {\n",
       "        text-align: right;\n",
       "    }\n",
       "</style>\n",
       "<table border=\"1\" class=\"dataframe\">\n",
       "  <thead>\n",
       "    <tr style=\"text-align: right;\">\n",
       "      <th></th>\n",
       "      <th>k</th>\n",
       "      <th>r2 score</th>\n",
       "      <th>mse</th>\n",
       "    </tr>\n",
       "  </thead>\n",
       "  <tbody>\n",
       "    <tr>\n",
       "      <th>3</th>\n",
       "      <td>4</td>\n",
       "      <td>0.576697</td>\n",
       "      <td>3.167979e+08</td>\n",
       "    </tr>\n",
       "    <tr>\n",
       "      <th>4</th>\n",
       "      <td>5</td>\n",
       "      <td>0.572285</td>\n",
       "      <td>3.200997e+08</td>\n",
       "    </tr>\n",
       "    <tr>\n",
       "      <th>9</th>\n",
       "      <td>10</td>\n",
       "      <td>0.566364</td>\n",
       "      <td>3.245309e+08</td>\n",
       "    </tr>\n",
       "    <tr>\n",
       "      <th>5</th>\n",
       "      <td>6</td>\n",
       "      <td>0.560651</td>\n",
       "      <td>3.288070e+08</td>\n",
       "    </tr>\n",
       "    <tr>\n",
       "      <th>8</th>\n",
       "      <td>9</td>\n",
       "      <td>0.554606</td>\n",
       "      <td>3.333305e+08</td>\n",
       "    </tr>\n",
       "    <tr>\n",
       "      <th>7</th>\n",
       "      <td>8</td>\n",
       "      <td>0.553857</td>\n",
       "      <td>3.338912e+08</td>\n",
       "    </tr>\n",
       "    <tr>\n",
       "      <th>6</th>\n",
       "      <td>7</td>\n",
       "      <td>0.543244</td>\n",
       "      <td>3.418341e+08</td>\n",
       "    </tr>\n",
       "    <tr>\n",
       "      <th>2</th>\n",
       "      <td>3</td>\n",
       "      <td>0.490856</td>\n",
       "      <td>3.810409e+08</td>\n",
       "    </tr>\n",
       "    <tr>\n",
       "      <th>1</th>\n",
       "      <td>2</td>\n",
       "      <td>0.373122</td>\n",
       "      <td>4.691524e+08</td>\n",
       "    </tr>\n",
       "    <tr>\n",
       "      <th>0</th>\n",
       "      <td>1</td>\n",
       "      <td>0.186813</td>\n",
       "      <td>6.085856e+08</td>\n",
       "    </tr>\n",
       "  </tbody>\n",
       "</table>\n",
       "</div>"
      ],
      "text/plain": [
       "    k  r2 score           mse\n",
       "3   4  0.576697  3.167979e+08\n",
       "4   5  0.572285  3.200997e+08\n",
       "9  10  0.566364  3.245309e+08\n",
       "5   6  0.560651  3.288070e+08\n",
       "8   9  0.554606  3.333305e+08\n",
       "7   8  0.553857  3.338912e+08\n",
       "6   7  0.543244  3.418341e+08\n",
       "2   3  0.490856  3.810409e+08\n",
       "1   2  0.373122  4.691524e+08\n",
       "0   1  0.186813  6.085856e+08"
      ]
     },
     "execution_count": 5,
     "metadata": {},
     "output_type": "execute_result"
    }
   ],
   "source": [
    "# standard scaler & k neighbours\n",
    "\n",
    "scaler = StandardScaler()\n",
    "\n",
    "X_train_scaled = scaler.fit_transform(X_train)\n",
    "X_test_scaled = scaler.transform(X_test)\n",
    "\n",
    "scores = []\n",
    "for k in range(1, 11):\n",
    "    knr = KNeighborsRegressor(n_neighbors=k)\n",
    "    knr.fit(X_train_scaled, y_train)\n",
    "    y_pred = knr.predict(X_test_scaled)\n",
    "\n",
    "    scores.append([k, r2_score(y_test, y_pred), mean_squared_error(y_test, y_pred)])\n",
    "\n",
    "scores = pd.DataFrame(scores, columns=['k', 'r2 score', 'mse'])\n",
    "scores = scores.sort_values('r2 score', ascending=False)\n",
    "scores"
   ]
  },
  {
   "cell_type": "code",
   "execution_count": 46,
   "id": "128c8c00-730c-4fec-bb27-f4d62ab88173",
   "metadata": {},
   "outputs": [],
   "source": [
    "houses = pd.read_csv('../Datasets/Housing.csv')\n",
    "\n",
    "X = houses.drop('price', axis=1)\n",
    "y = houses['price']"
   ]
  },
  {
   "cell_type": "code",
   "execution_count": 57,
   "id": "f935608c-947c-4924-a539-55d2de6a3bf7",
   "metadata": {},
   "outputs": [
    {
     "data": {
      "text/plain": [
       "Index(['driveway_yes', 'recroom_yes', 'fullbase_yes', 'gashw_yes', 'airco_yes',\n",
       "       'prefarea_yes', 'lotsize', 'bedrooms', 'bathrms', 'stories',\n",
       "       'garagepl'],\n",
       "      dtype='object')"
      ]
     },
     "execution_count": 57,
     "metadata": {},
     "output_type": "execute_result"
    }
   ],
   "source": [
    "categories = list(X.columns[X.dtypes == 'object'])\n",
    "numerics =  list(X.columns[X.dtypes != 'object'])\n",
    "\n",
    "encoder = OneHotEncoder(sparse_output=False, drop='first').set_output(transform='pandas')\n",
    "\n",
    "category_transformer = make_column_transformer((encoder, categories), remainder='passthrough', verbose_feature_names_out=False)\n",
    "category_transformer = category_transformer.set_output(transform='pandas')\n",
    "\n",
    "X_transformed = category_transformer.fit_transform(X)\n",
    "X_transformed.columns"
   ]
  },
  {
   "cell_type": "code",
   "execution_count": 52,
   "id": "679b0bb4-2e02-4d12-bd02-88ee9c04ac1f",
   "metadata": {},
   "outputs": [
    {
     "name": "stdout",
     "output_type": "stream",
     "text": [
      "0.5766971722542311\n",
      "316797918.5087652\n"
     ]
    }
   ],
   "source": [
    "X_train, X_test, y_train, y_test = train_test_split(X_transformed, y, test_size=0.3, random_state=25)\n",
    "\n",
    "scaler = StandardScaler()\n",
    "\n",
    "X_train_scaled = scaler.fit_transform(X_train)\n",
    "X_test_scaled = scaler.transform(X_test)\n",
    "\n",
    "knr = KNeighborsRegressor(n_neighbors=4)\n",
    "knr.fit(X_train_scaled, y_train)\n",
    "y_pred = knr.predict(X_test_scaled)\n",
    "\n",
    "print(r2_score(y_test, y_pred))\n",
    "print(mean_squared_error(y_test, y_pred))"
   ]
  },
  {
   "cell_type": "code",
   "execution_count": 63,
   "id": "f5b7626b-f61c-4c7a-852d-8217f8beee8c",
   "metadata": {},
   "outputs": [
    {
     "data": {
      "text/plain": [
       "array([58625., 48475., 46125., 74250.])"
      ]
     },
     "execution_count": 63,
     "metadata": {},
     "output_type": "execute_result"
    }
   ],
   "source": [
    "test_houses = pd.read_csv('../Datasets/tst_Housing.csv')\n",
    "test_transformed = category_transformer.transform(test_houses)\n",
    "test_transformed = scaler.transform(test_transformed)\n",
    "\n",
    "y_pred = knr.predict(test_transformed)\n",
    "\n",
    "y_pred\n"
   ]
  },
  {
   "cell_type": "code",
   "execution_count": null,
   "id": "a5db3dcd-299c-4677-b4aa-ccd174680d45",
   "metadata": {},
   "outputs": [],
   "source": []
  }
 ],
 "metadata": {
  "kernelspec": {
   "display_name": "Python 3 (ipykernel)",
   "language": "python",
   "name": "python3"
  },
  "language_info": {
   "codemirror_mode": {
    "name": "ipython",
    "version": 3
   },
   "file_extension": ".py",
   "mimetype": "text/x-python",
   "name": "python",
   "nbconvert_exporter": "python",
   "pygments_lexer": "ipython3",
   "version": "3.13.7"
  }
 },
 "nbformat": 4,
 "nbformat_minor": 5
}
