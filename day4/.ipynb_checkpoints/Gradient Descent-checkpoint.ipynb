{
 "cells": [
  {
   "cell_type": "code",
   "execution_count": 16,
   "id": "1c26fcd0-cd5c-43f9-b50c-454aaf94cf16",
   "metadata": {},
   "outputs": [],
   "source": [
    "import pandas as pd\n",
    "import numpy as np\n",
    "from sklearn.linear_model import LinearRegression\n",
    "from sklearn.metrics import log_loss\n",
    "from sklearn.preprocessing import LabelEncoder,MinMaxScaler\n",
    "from sklearn.model_selection import train_test_split"
   ]
  },
  {
   "cell_type": "markdown",
   "id": "9369125b-5600-4fe8-95f8-e46250fb8749",
   "metadata": {},
   "source": [
    "<h1 style = 'color:orange'>Gradient Descent</h1>"
   ]
  },
  {
   "cell_type": "code",
   "execution_count": 2,
   "id": "3f9c0a51-4ec6-42d9-9789-f2075ca0b4ed",
   "metadata": {},
   "outputs": [
    {
     "data": {
      "text/plain": [
       "(np.float64(0.12279362129643918), np.float64(0.1302349735565843))"
      ]
     },
     "execution_count": 2,
     "metadata": {},
     "output_type": "execute_result"
    }
   ],
   "source": [
    "#one iteration\n",
    "hr = pd.read_csv('../Cases/HRAnalytics/HR_comma_sep.csv')\n",
    "\n",
    "w = 0.1 #weight \n",
    "b = 0.1 #bias\n",
    "\n",
    "x = np.array(hr['satisfaction_level']) #independent variable\n",
    "y = np.array(hr['left']) #dependent variable\n",
    "n = len(y)\n",
    "alpha = 0.1  #alpha\n",
    "y_cap = 1/(1 + np.exp((w*x + b)*-1)) ##yi_cap/ sigmoid funtiom\n",
    "\n",
    "L = log_loss(y,y_cap) # loss\n",
    "\n",
    "wd = ((y-y_cap)*x).mean() #derivate of w\n",
    "bd = ((y-y_cap)).mean()\n",
    "\n",
    "# first iteration/ epochs\n",
    "w = w - alpha*wd\n",
    "b = b - alpha*bd\n",
    "\n",
    "w,b"
   ]
  },
  {
   "cell_type": "code",
   "execution_count": 4,
   "id": "76b4b193-c39f-4485-b5d7-ed15f3daeaf6",
   "metadata": {},
   "outputs": [
    {
     "name": "stdout",
     "output_type": "stream",
     "text": [
      "0.7428587332169145\n",
      "0.7287685129896027\n",
      "0.7156328500680679\n",
      "0.7033889224991673\n",
      "0.6919770495192779\n",
      "0.6813407507056642\n",
      "0.6714267536697703\n",
      "0.6621849597059932\n",
      "0.6535683759353809\n"
     ]
    }
   ],
   "source": [
    "## for 10 iterations/epochs\n",
    "\n",
    "w = 0.1 #weight \n",
    "b = 0.1 #bias\n",
    "\n",
    "x = np.array(hr['satisfaction_level']) #independent variable\n",
    "y = np.array(hr['left']) #dependent variable\n",
    "n = len(y)\n",
    "eta = 0.1  #eta\n",
    "y_cap = 1/(1 + np.exp((w*x + b)*-1)) ##yi_cap/ sigmoid funtiom\n",
    "\n",
    "for i in range(1,10):\n",
    "     ##yi_cap/ sigmoid funtiom\n",
    "    y_cap = 1/(1 + np.exp((w*x + b)*-1))\n",
    "    if(L<0.0001):\n",
    "        break\n",
    "    L = log_loss(y,y_cap) # loss\n",
    "    print(L)\n",
    "    wd = -np.mean((y-y_cap)*x) #derivate of w\n",
    "    bd = -np.mean((y-y_cap)) #derivative of b\n",
    "    nw = w - eta*wd\n",
    "    nb = b - eta*bd\n",
    "    w,b = nw,nb"
   ]
  },
  {
   "cell_type": "code",
   "execution_count": 13,
   "id": "0eeaa581-0e70-4e1a-948a-3072e0b10e76",
   "metadata": {},
   "outputs": [
    {
     "name": "stdout",
     "output_type": "stream",
     "text": [
      "0.8759321595111084\n",
      "0.6836359626515807\n",
      "0.6138181308623706\n",
      "0.5875789714800721\n",
      "0.5765922452185693\n",
      "0.5715257132673771\n",
      "0.5689759650853297\n",
      "0.5675679293007238\n",
      "0.5667017783099917\n",
      "0.566101187395712\n",
      "0.5656338569689113\n",
      "0.5652346901635902\n",
      "0.5648710285322183\n",
      "0.5645262591825202\n",
      "0.5641918472651414\n",
      "0.5638633766961328\n",
      "0.5635385506347904\n",
      "0.5632161697699891\n",
      "0.5628956058072482\n",
      "0.5625765284918591\n",
      "0.5622587634689755\n",
      "0.5619422180470558\n",
      "0.561626842345665\n",
      "0.5613126089345203\n",
      "0.5609995021545683\n",
      "0.5606875125150759\n",
      "0.5603766337539816\n",
      "0.5600668612961118\n",
      "0.559758191445119\n",
      "0.5594506209604495\n",
      "0.5591441468362409\n",
      "0.5588387661860337\n",
      "0.5585344761828559\n",
      "0.5582312740282411\n",
      "0.5579291569363194\n",
      "0.5576281221257389\n",
      "0.5573281668156386\n",
      "0.5570292882236958\n",
      "0.5567314835652353\n",
      "0.5564347500528668\n",
      "0.5561390848963847\n",
      "0.5558444853027922\n",
      "0.55555094847638\n",
      "0.5552584716188289\n",
      "0.5549670519293193\n",
      "0.5546766866046398\n",
      "0.5543873728392938\n",
      "0.5540991078256041\n",
      "0.5538118887538115\n",
      "0.553525712812173\n",
      "0.5532405771870572\n",
      "0.5529564790630371\n",
      "0.5526734156229823\n",
      "0.5523913840481499\n",
      "0.5521103815182733\n",
      "0.5518304052116515\n",
      "0.5515514523052376\n",
      "0.5512735199747255\n",
      "0.5509966053946375\n",
      "0.5507207057384096\n",
      "0.550445818178479\n",
      "0.5501719398863678\n",
      "0.5498990680327687\n",
      "0.54962719978763\n",
      "0.5493563323202381\n",
      "0.5490864627993028\n",
      "0.5488175883930393\n",
      "0.5485497062692506\n",
      "0.5482828135954113\n",
      "0.5480169075387467\n",
      "0.5477519852663171\n",
      "0.5474880439450963\n",
      "0.547225080742053\n",
      "0.5469630928242304\n",
      "0.5467020773588259\n",
      "0.5464420315132695\n",
      "0.546182952455303\n",
      "0.5459248373530567\n",
      "0.5456676833751287\n",
      "0.5454114876906604\n",
      "0.5451562474694133\n",
      "0.5449019598818458\n",
      "0.5446486220991873\n",
      "0.5443962312935148\n",
      "0.5441447846378261\n",
      "0.5438942793061146\n",
      "0.5436447124734419\n",
      "0.543396081316012\n",
      "0.5431483830112427\n",
      "0.5429016147378379\n",
      "0.5426557736758592\n",
      "0.542410857006796\n",
      "0.5421668619136372\n",
      "0.5419237855809397\n",
      "0.5416816251948985\n",
      "0.5414403779434154\n",
      "0.5412000410161666\n",
      "0.5409606116046712\n",
      "0.5407220869023581\n",
      "0.5404844641046326\n"
     ]
    }
   ],
   "source": [
    "#taking 2 features \n",
    "\n",
    "hr = pd.read_csv('../Cases/HRAnalytics/HR_comma_sep.csv')\n",
    "\n",
    "w1 = 0.1 #weight 1\n",
    "w2 = 0.1 #wieght 2\n",
    "b = 0.1 #bias\n",
    "\n",
    "x1 = np.array(hr['satisfaction_level']) #independent variable\n",
    "x2 = hr['number_project'].values\n",
    "y = np.array(hr['left']) #dependent variable\n",
    "n = len(y)\n",
    "alpha = 0.7  #alpha\n",
    "y_cap = 1/(1 + np.exp((w1*x1 + w2*x2 + b)*-1)) ##yi_cap/ sigmoid funtiom\n",
    "\n",
    "for i in range(100):\n",
    "     ##yi_cap/ sigmoid funtiom\n",
    "    y_cap = 1/(1 + np.exp((w1*x1 + w2*x2 + b)*-1))\n",
    "    if(L<0.0001):\n",
    "        break\n",
    "    L = log_loss(y,y_cap) # loss\n",
    "    print(L)\n",
    "    wd1 = -np.mean((y-y_cap)*x1) #derivate of w1\n",
    "    wd2 =  -np.mean((y-y_cap)*x2) #derivate of w2\n",
    "    bd = -np.mean((y-y_cap)) #derivative of b\n",
    "    w1 = w1 - eta*wd1\n",
    "    w2 = w2 - eta*wd2\n",
    "    nb = b - eta*bd\n",
    "    "
   ]
  },
  {
   "cell_type": "markdown",
   "id": "1e81dc43-de37-443b-a569-f48cfb1a3c20",
   "metadata": {},
   "source": [
    "<h1 style = 'color:Orange'>Kyphosis Dataset</h1>"
   ]
  },
  {
   "cell_type": "code",
   "execution_count": 17,
   "id": "e44bdac5-483d-4c04-a9ed-ea28dc9242e6",
   "metadata": {},
   "outputs": [],
   "source": [
    "kyph = pd.read_csv('../Cases/Kyphosis/Kyphosis.csv')\n",
    "\n",
    "le = LabelEncoder()\n",
    "sampler = MinMaxScaler()\n",
    "\n",
    "kyph['Kyphosis'] = le.fit_transform(kyph['Kyphosis'])\n"
   ]
  },
  {
   "cell_type": "code",
   "execution_count": null,
   "id": "d0c74c4a-f347-4ba1-840e-1abde78ab818",
   "metadata": {},
   "outputs": [],
   "source": []
  }
 ],
 "metadata": {
  "kernelspec": {
   "display_name": "Python 3 (ipykernel)",
   "language": "python",
   "name": "python3"
  },
  "language_info": {
   "codemirror_mode": {
    "name": "ipython",
    "version": 3
   },
   "file_extension": ".py",
   "mimetype": "text/x-python",
   "name": "python",
   "nbconvert_exporter": "python",
   "pygments_lexer": "ipython3",
   "version": "3.13.7"
  }
 },
 "nbformat": 4,
 "nbformat_minor": 5
}
