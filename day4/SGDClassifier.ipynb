{
 "cells": [
  {
   "cell_type": "markdown",
   "id": "8da37513-e3aa-42a9-99fc-8bb50a350362",
   "metadata": {},
   "source": [
    "<h1 style= 'color:Orange'>Stochastic Gradient Descent Classifier</h1>"
   ]
  },
  {
   "cell_type": "code",
   "execution_count": 10,
   "id": "f12cb572-835a-4ee9-973a-55552d09aab6",
   "metadata": {},
   "outputs": [],
   "source": [
    "import pandas as pd\n",
    "import numpy as np\n",
    "from sklearn.linear_model import LinearRegression, SGDClassifier\n",
    "from sklearn.metrics import log_loss,classification_report\n",
    "from sklearn.preprocessing import LabelEncoder,MinMaxScaler\n",
    "from sklearn.model_selection import train_test_split\n",
    "from datetime import datetime"
   ]
  },
  {
   "cell_type": "code",
   "execution_count": 31,
   "id": "ac05913c-838d-404c-aad6-92d8eb68862a",
   "metadata": {},
   "outputs": [
    {
     "name": "stdout",
     "output_type": "stream",
     "text": [
      "              precision    recall  f1-score   support\n",
      "\n",
      "           0       0.83      0.95      0.88        20\n",
      "           1       0.50      0.20      0.29         5\n",
      "\n",
      "    accuracy                           0.80        25\n",
      "   macro avg       0.66      0.57      0.58        25\n",
      "weighted avg       0.76      0.80      0.76        25\n",
      "\n"
     ]
    },
    {
     "data": {
      "text/plain": [
       "0.38418888500467546"
      ]
     },
     "execution_count": 31,
     "metadata": {},
     "output_type": "execute_result"
    }
   ],
   "source": [
    "kyph = pd.read_csv('../Cases/Kyphosis/Kyphosis.csv')\n",
    "\n",
    "le = LabelEncoder()\n",
    "scaler = MinMaxScaler().set_output(transform='pandas')\n",
    "\n",
    "kyph['Kyphosis'] = le.fit_transform(kyph['Kyphosis'])\n",
    "\n",
    "y = kyph['Kyphosis']\n",
    "X = kyph.drop('Kyphosis' , axis = 1)\n",
    "\n",
    "X_train,X_test,y_train,y_test = train_test_split(X,y,test_size=0.3,random_state=25,stratify=y)\n",
    "\n",
    "X_train = scaler.fit_transform(X_train)\n",
    "X_test = scaler.transform(X_test)\n",
    "\n",
    "sgd = SGDClassifier(random_state=25, loss='log_loss', learning_rate='constant', eta0=0.5)\n",
    "sgd.fit(X_train, y_train)\n",
    "y_pred_proba = sgd.predict_proba(X_test)\n",
    "y_pred = sgd.predict(X_test)\n",
    "print(classification_report(y_test, y_pred))\n",
    "log_loss(y_test, y_pred_proba)\n"
   ]
  },
  {
   "cell_type": "code",
   "execution_count": 36,
   "id": "d65ccdb3-54cb-4fac-ac42-c7248ca8afb7",
   "metadata": {},
   "outputs": [
    {
     "name": "stdout",
     "output_type": "stream",
     "text": [
      "              precision    recall  f1-score   support\n",
      "\n",
      "           0       0.82      0.94      0.87      3429\n",
      "           1       0.61      0.32      0.42      1070\n",
      "\n",
      "    accuracy                           0.79      4499\n",
      "   macro avg       0.71      0.63      0.65      4499\n",
      "weighted avg       0.77      0.79      0.77      4499\n",
      "\n"
     ]
    },
    {
     "data": {
      "text/plain": [
       "0.4277762729237009"
      ]
     },
     "execution_count": 36,
     "metadata": {},
     "output_type": "execute_result"
    }
   ],
   "source": [
    "hr = pd.read_csv('../Cases/HRAnalytics/HR_comma_sep.csv')\n",
    "\n",
    "hr = pd.get_dummies(hr, drop_first=True)\n",
    "\n",
    "X = hr.drop('left', axis=1)\n",
    "y = hr['left']\n",
    "\n",
    "X_train,X_test,y_train,y_test = train_test_split(X,y,test_size=0.3,random_state=25,stratify=y)\n",
    "\n",
    "scaler = MinMaxScaler().set_output(transform='pandas')\n",
    "X_train = scaler.fit_transform(X_train)\n",
    "X_test = scaler.transform(X_test)\n",
    "\n",
    "sgd = SGDClassifier(random_state=25, loss='log_loss')\n",
    "sgd.fit(X_train, y_train)\n",
    "y_pred_proba = sgd.predict_proba(X_test)\n",
    "y_pred = sgd.predict(X_test)\n",
    "print(classification_report(y_test, y_pred))\n",
    "log_loss(y_test, y_pred_proba)"
   ]
  },
  {
   "cell_type": "code",
   "execution_count": null,
   "id": "f800ba85-ace0-46d6-87b0-5f0089d2161b",
   "metadata": {},
   "outputs": [],
   "source": []
  }
 ],
 "metadata": {
  "kernelspec": {
   "display_name": "Python 3 (ipykernel)",
   "language": "python",
   "name": "python3"
  },
  "language_info": {
   "codemirror_mode": {
    "name": "ipython",
    "version": 3
   },
   "file_extension": ".py",
   "mimetype": "text/x-python",
   "name": "python",
   "nbconvert_exporter": "python",
   "pygments_lexer": "ipython3",
   "version": "3.13.7"
  }
 },
 "nbformat": 4,
 "nbformat_minor": 5
}
