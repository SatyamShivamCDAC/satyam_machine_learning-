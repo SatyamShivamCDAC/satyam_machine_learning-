{
 "cells": [
  {
   "cell_type": "code",
   "execution_count": 1,
   "id": "2b43278f-b565-4e14-a630-f5671e4c0bb3",
   "metadata": {},
   "outputs": [],
   "source": [
    "import pandas as pd\n",
    "import numpy as np\n",
    "from sklearn.preprocessing import LabelEncoder\n",
    "from sklearn.model_selection import train_test_split\n",
    "from sklearn.metrics import accuracy_score,classification_report\n",
    "from sklearn.neighbors import KNeighborsClassifier\n",
    "from sklearn.preprocessing import StandardScaler"
   ]
  },
  {
   "cell_type": "code",
   "execution_count": 12,
   "id": "965be85d-bfeb-428e-b71d-386ed0a683f0",
   "metadata": {},
   "outputs": [
    {
     "name": "stdout",
     "output_type": "stream",
     "text": [
      "    k     score\n",
      "6   7  0.653543\n",
      "2   3  0.653543\n",
      "3   4  0.649606\n",
      "0   1  0.641732\n",
      "7   8  0.641732\n",
      "4   5  0.641732\n",
      "9  10  0.637795\n",
      "5   6  0.637795\n",
      "8   9  0.629921\n",
      "1   2  0.622047\n",
      "              precision    recall  f1-score   support\n",
      "\n",
      "         bus       0.80      0.72      0.76        72\n",
      "        opel       0.44      0.52      0.47        54\n",
      "        saab       0.43      0.48      0.46        58\n",
      "         van       0.97      0.83      0.89        70\n",
      "\n",
      "    accuracy                           0.65       254\n",
      "   macro avg       0.66      0.64      0.65       254\n",
      "weighted avg       0.68      0.65      0.67       254\n",
      "\n"
     ]
    }
   ],
   "source": [
    "vehicles  = pd.read_csv('../Cases/Vehicle_Silhouettes/Vehicle.csv')\n",
    "\n",
    "y = vehicles['Class']\n",
    "X = vehicles.drop('Class',axis=1)\n",
    "\n",
    "X_train,X_test,y_train,y_test = train_test_split(X,y,test_size=0.3,random_state=25,stratify=y)\n",
    "\n",
    "\n",
    "score = []\n",
    "for i in range(1,11):\n",
    "    knn = KNeighborsClassifier(n_neighbors=i)\n",
    "    knn.fit(X_train,y_train)\n",
    "    y_pred = knn.predict(X_test)\n",
    "    score.append([i,accuracy_score(y_pred,y_test)])\n",
    "score = pd.DataFrame(score,columns=[\"k\",'score'])\n",
    "print(score.sort_values('score',ascending=False))\n",
    "\n",
    "knn = KNeighborsClassifier(n_neighbors=7)\n",
    "knn.fit(X_train,y_train)\n",
    "y_pred = knn.predict(X_test)\n",
    "print(classification_report(y_pred,y_test))"
   ]
  },
  {
   "cell_type": "code",
   "execution_count": null,
   "id": "1a6e4f26-2a37-4bcf-bb25-a17ed6930340",
   "metadata": {},
   "outputs": [],
   "source": []
  }
 ],
 "metadata": {
  "kernelspec": {
   "display_name": "Python 3 (ipykernel)",
   "language": "python",
   "name": "python3"
  },
  "language_info": {
   "codemirror_mode": {
    "name": "ipython",
    "version": 3
   },
   "file_extension": ".py",
   "mimetype": "text/x-python",
   "name": "python",
   "nbconvert_exporter": "python",
   "pygments_lexer": "ipython3",
   "version": "3.13.7"
  }
 },
 "nbformat": 4,
 "nbformat_minor": 5
}
