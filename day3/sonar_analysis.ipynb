{
 "cells": [
  {
   "cell_type": "code",
   "execution_count": 2,
   "id": "1c0e0f23-cf20-48e8-b5f3-d65945478812",
   "metadata": {},
   "outputs": [],
   "source": [
    "import pandas as pd\n",
    "import numpy as np\n",
    "from sklearn.metrics import roc_curve,roc_auc_score\n",
    "from sklearn.linear_model import LogisticRegression\n",
    "from sklearn.neighbors import KNeighborsClassifier\n",
    "from sklearn.model_selection import train_test_split"
   ]
  },
  {
   "cell_type": "markdown",
   "id": "40305eb6-4595-4004-84b9-9f0a6a8352e7",
   "metadata": {},
   "source": [
    "<h1 style = 'color:Orange'>Sonar Analysis</h1>"
   ]
  },
  {
   "cell_type": "code",
   "execution_count": 5,
   "id": "ce324a40-46ea-4268-ae20-0c5ad3ca3852",
   "metadata": {},
   "outputs": [],
   "source": [
    "sonar = pd.read_csv('../Cases/Sonar/Sonar.csv')\n",
    "\n",
    "X = sonar.drop('Class',axis = 1)\n",
    "y = sonar['Class']\n",
    "\n",
    "X_train,X_test,y_train,y_test = train_test_split(X,y)"
   ]
  },
  {
   "cell_type": "code",
   "execution_count": null,
   "id": "ad9bef45-30ee-4761-982c-728e14659112",
   "metadata": {},
   "outputs": [],
   "source": []
  }
 ],
 "metadata": {
  "kernelspec": {
   "display_name": "Python 3 (ipykernel)",
   "language": "python",
   "name": "python3"
  },
  "language_info": {
   "codemirror_mode": {
    "name": "ipython",
    "version": 3
   },
   "file_extension": ".py",
   "mimetype": "text/x-python",
   "name": "python",
   "nbconvert_exporter": "python",
   "pygments_lexer": "ipython3",
   "version": "3.13.7"
  }
 },
 "nbformat": 4,
 "nbformat_minor": 5
}
