{
 "cells": [
  {
   "cell_type": "code",
   "execution_count": 1,
   "id": "24d0f8ad-5c8b-4292-8376-594541fb60f8",
   "metadata": {},
   "outputs": [],
   "source": [
    "import pandas as pd\n",
    "import numpy as np\n",
    "import matplotlib.pyplot as plt\n",
    "from sklearn.model_selection import train_test_split\n",
    "from sklearn.ensemble import RandomForestClassifier\n",
    "from sklearn.tree import DecisionTreeClassifier\n",
    "from sklearn.metrics import classification_report,log_loss,accuracy_score"
   ]
  },
  {
   "cell_type": "markdown",
   "id": "fccdbfb4-f288-4d53-8e22-604ce04a64b5",
   "metadata": {},
   "source": [
    "<h1 style = color:orange>Random Forest Classifier</h1>"
   ]
  },
  {
   "cell_type": "code",
   "execution_count": 8,
   "id": "c096ea3e-b133-4af8-bd7e-dd507bd1c8c0",
   "metadata": {
    "scrolled": true
   },
   "outputs": [
    {
     "data": {
      "text/html": [
       "<div>\n",
       "<style scoped>\n",
       "    .dataframe tbody tr th:only-of-type {\n",
       "        vertical-align: middle;\n",
       "    }\n",
       "\n",
       "    .dataframe tbody tr th {\n",
       "        vertical-align: top;\n",
       "    }\n",
       "\n",
       "    .dataframe thead th {\n",
       "        text-align: right;\n",
       "    }\n",
       "</style>\n",
       "<table border=\"1\" class=\"dataframe\">\n",
       "  <thead>\n",
       "    <tr style=\"text-align: right;\">\n",
       "      <th></th>\n",
       "      <th>features</th>\n",
       "      <th>log loss</th>\n",
       "      <th>accuracy score</th>\n",
       "    </tr>\n",
       "  </thead>\n",
       "  <tbody>\n",
       "    <tr>\n",
       "      <th>3</th>\n",
       "      <td>5</td>\n",
       "      <td>0.467464</td>\n",
       "      <td>0.761905</td>\n",
       "    </tr>\n",
       "    <tr>\n",
       "      <th>6</th>\n",
       "      <td>8</td>\n",
       "      <td>0.470210</td>\n",
       "      <td>0.714286</td>\n",
       "    </tr>\n",
       "    <tr>\n",
       "      <th>8</th>\n",
       "      <td>10</td>\n",
       "      <td>0.485514</td>\n",
       "      <td>0.730159</td>\n",
       "    </tr>\n",
       "    <tr>\n",
       "      <th>5</th>\n",
       "      <td>7</td>\n",
       "      <td>0.493849</td>\n",
       "      <td>0.714286</td>\n",
       "    </tr>\n",
       "    <tr>\n",
       "      <th>4</th>\n",
       "      <td>6</td>\n",
       "      <td>0.502338</td>\n",
       "      <td>0.730159</td>\n",
       "    </tr>\n",
       "    <tr>\n",
       "      <th>2</th>\n",
       "      <td>4</td>\n",
       "      <td>0.503281</td>\n",
       "      <td>0.746032</td>\n",
       "    </tr>\n",
       "    <tr>\n",
       "      <th>0</th>\n",
       "      <td>2</td>\n",
       "      <td>0.503607</td>\n",
       "      <td>0.714286</td>\n",
       "    </tr>\n",
       "    <tr>\n",
       "      <th>7</th>\n",
       "      <td>9</td>\n",
       "      <td>0.512486</td>\n",
       "      <td>0.698413</td>\n",
       "    </tr>\n",
       "    <tr>\n",
       "      <th>1</th>\n",
       "      <td>3</td>\n",
       "      <td>0.518018</td>\n",
       "      <td>0.746032</td>\n",
       "    </tr>\n",
       "  </tbody>\n",
       "</table>\n",
       "</div>"
      ],
      "text/plain": [
       "   features  log loss  accuracy score\n",
       "3         5  0.467464        0.761905\n",
       "6         8  0.470210        0.714286\n",
       "8        10  0.485514        0.730159\n",
       "5         7  0.493849        0.714286\n",
       "4         6  0.502338        0.730159\n",
       "2         4  0.503281        0.746032\n",
       "0         2  0.503607        0.714286\n",
       "7         9  0.512486        0.698413\n",
       "1         3  0.518018        0.746032"
      ]
     },
     "execution_count": 8,
     "metadata": {},
     "output_type": "execute_result"
    }
   ],
   "source": [
    "sonar = pd.read_csv('../Cases/Sonar/Sonar.csv')\n",
    "\n",
    "X = sonar.drop('Class',axis = 1)\n",
    "y = sonar['Class']\n",
    "\n",
    "features = [2,3,4,5,6,7,8,9,10]\n",
    "scores = []\n",
    "\n",
    "X_train,X_test,y_train,y_test = train_test_split(X,y,random_state=25,test_size=0.3,stratify=y)\n",
    "\n",
    "for f in features:\n",
    "    rf = RandomForestClassifier(random_state=25,max_features=f)\n",
    "    rf.fit(X_train,y_train)\n",
    "    y_pred = rf.predict(X_test)\n",
    "    y_pred_proba = rf.predict_proba(X_test)\n",
    "    scores.append([f,log_loss(y_test,y_pred_proba),accuracy_score(y_test,y_pred)])\n",
    "scores = pd.DataFrame(scores,columns = ['features','log loss','accuracy score'])\n",
    "scores.sort_values('log loss')"
   ]
  },
  {
   "cell_type": "code",
   "execution_count": 4,
   "id": "80d1fe23-4559-48d1-8882-9ea9a469cb03",
   "metadata": {},
   "outputs": [
    {
     "data": {
      "text/plain": [
       "features         V12\n",
       "imp         0.067576\n",
       "Name: 11, dtype: object"
      ]
     },
     "execution_count": 4,
     "metadata": {},
     "output_type": "execute_result"
    }
   ],
   "source": [
    "rf = RandomForestClassifier(random_state=25,max_features=5)\n",
    "rf.fit(X,y)\n",
    "df_imp = pd.DataFrame({'features' : list(X.columns), 'imp' : rf.feature_importances_})\n",
    "df_imp = df_imp.sort_values('imp',ascending = False)\n",
    "df_imp.iloc[0]"
   ]
  },
  {
   "cell_type": "code",
   "execution_count": null,
   "id": "e09821b5-37be-4e78-baef-242589630340",
   "metadata": {},
   "outputs": [],
   "source": [
    "\n"
   ]
  }
 ],
 "metadata": {
  "kernelspec": {
   "display_name": "Python 3 (ipykernel)",
   "language": "python",
   "name": "python3"
  },
  "language_info": {
   "codemirror_mode": {
    "name": "ipython",
    "version": 3
   },
   "file_extension": ".py",
   "mimetype": "text/x-python",
   "name": "python",
   "nbconvert_exporter": "python",
   "pygments_lexer": "ipython3",
   "version": "3.13.7"
  }
 },
 "nbformat": 4,
 "nbformat_minor": 5
}
