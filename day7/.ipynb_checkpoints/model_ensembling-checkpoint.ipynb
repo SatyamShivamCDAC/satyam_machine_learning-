{
 "cells": [
  {
   "cell_type": "code",
   "execution_count": 84,
   "id": "3f23036c-16c5-4ea2-ba34-77dc0d69a7db",
   "metadata": {},
   "outputs": [],
   "source": [
    "import pandas as pd\n",
    "import numpy as np\n",
    "import matplotlib.pyplot as plt\n",
    "import seaborn as sns\n",
    "from sklearn.tree import DecisionTreeClassifier,DecisionTreeRegressor\n",
    "from sklearn.neighbors import KNeighborsClassifier\n",
    "from sklearn.naive_bayes import GaussianNB\n",
    "from sklearn.ensemble import VotingClassifier,VotingRegressor,BaggingClassifier\n",
    "from sklearn.model_selection import train_test_split\n",
    "from sklearn.linear_model import LinearRegression,ElasticNet\n",
    "from sklearn.preprocessing import OneHotEncoder,LabelEncoder, OrdinalEncoder\n",
    "from sklearn.compose import make_column_selector,make_column_transformer\n",
    "from sklearn.metrics import classification_report,f1_score,log_loss,accuracy_score,r2_score,log_loss"
   ]
  },
  {
   "cell_type": "markdown",
   "id": "a1911bb1-a9aa-48d6-b07d-89b986edb001",
   "metadata": {},
   "source": [
    "<h1 style = color:orange>Voting Classifier</h1>"
   ]
  },
  {
   "cell_type": "code",
   "execution_count": 36,
   "id": "dd5f1e3e-e5ad-4b66-a457-7cce87fba6ac",
   "metadata": {},
   "outputs": [
    {
     "name": "stdout",
     "output_type": "stream",
     "text": [
      "              precision    recall  f1-score   support\n",
      "\n",
      "           0       0.68      0.88      0.77        34\n",
      "           1       0.79      0.52      0.62        29\n",
      "\n",
      "    accuracy                           0.71        63\n",
      "   macro avg       0.74      0.70      0.70        63\n",
      "weighted avg       0.73      0.71      0.70        63\n",
      "\n",
      "Estimator :  DecisionTreeClassifier(random_state=25)\n",
      "Accuracy Score =  0.6984126984126984\n",
      "Estimator :  DecisionTreeClassifier(max_depth=3, random_state=25)\n",
      "Accuracy Score =  0.6666666666666666\n",
      "Estimator :  KNeighborsClassifier()\n",
      "Accuracy Score =  0.746031746031746\n",
      "Estimator :  KNeighborsClassifier(n_neighbors=3)\n",
      "Accuracy Score =  0.8095238095238095\n",
      "Estimator :  GaussianNB()\n",
      "Accuracy Score =  0.6349206349206349\n"
     ]
    }
   ],
   "source": [
    "sonar = pd.read_csv('../Datasets/Sonar.csv')\n",
    "\n",
    "le = LabelEncoder()\n",
    "\n",
    "X = sonar.drop('Class',axis = 1)\n",
    "y = sonar['Class']\n",
    "\n",
    "y_le = le.fit_transform(y)\n",
    "\n",
    "X_train,X_test,y_train,y_test = train_test_split(X,y_le,test_size=0.3,stratify=y,random_state=25)\n",
    "\n",
    "dtc1 = DecisionTreeClassifier(random_state=25)\n",
    "dtc2 = DecisionTreeClassifier(random_state=25,max_depth=3)\n",
    "\n",
    "knn1 = KNeighborsClassifier(n_neighbors=5)\n",
    "knn2 = KNeighborsClassifier(n_neighbors=3)\n",
    "\n",
    "nb = GaussianNB()\n",
    "\n",
    "voting = VotingClassifier(estimators=[('tree1',dtc1),('tree2',dtc2),('knn1',knn1),('knn2',knn2),('nb',nb)],voting='soft')  # model esembling\n",
    "\n",
    "voting.fit(X_train,y_train)\n",
    "y_pred = voting.predict(X_test)\n",
    "print(classification_report(y_test,y_pred))\n",
    "\n",
    "#evaluating individual estimators \n",
    "for i in range(len(voting.estimators_)):\n",
    "    print('Estimator : ',voting.estimators_[i])\n",
    "    print('Accuracy Score = ',accuracy_score(y_test,voting.estimators_[i].predict(X_test)))"
   ]
  },
  {
   "cell_type": "markdown",
   "id": "c37f9ecb-b436-4767-8823-fef9d37e5482",
   "metadata": {},
   "source": [
    "<h1 style = color:orange>Soft Voting</h1>"
   ]
  },
  {
   "cell_type": "code",
   "execution_count": 34,
   "id": "a34cd364-4ce7-4809-a609-4a50745ebf72",
   "metadata": {},
   "outputs": [
    {
     "name": "stdout",
     "output_type": "stream",
     "text": [
      "              precision    recall  f1-score   support\n",
      "\n",
      "           0       0.68      0.88      0.77        34\n",
      "           1       0.79      0.52      0.62        29\n",
      "\n",
      "    accuracy                           0.71        63\n",
      "   macro avg       0.74      0.70      0.70        63\n",
      "weighted avg       0.73      0.71      0.70        63\n",
      "\n"
     ]
    }
   ],
   "source": [
    "sonar = pd.read_csv('../Datasets/Sonar.csv')\n",
    "\n",
    "# le = LabelEncoder()\n",
    "\n",
    "X = sonar.drop('Class',axis = 1)\n",
    "y = sonar['Class']\n",
    "\n",
    "y_le = le.fit_transform(y)\n",
    "\n",
    "X_train,X_test,y_train,y_test = train_test_split(X,y_le,test_size=0.3,stratify=y,random_state=25)\n",
    "\n",
    "dtc1 = DecisionTreeClassifier(random_state=25)\n",
    "dtc2 = DecisionTreeClassifier(random_state=25,max_depth=3)\n",
    "\n",
    "knn1 = KNeighborsClassifier(n_neighbors=5)\n",
    "knn2 = KNeighborsClassifier(n_neighbors=3)\n",
    "\n",
    "nb = GaussianNB()\n",
    "\n",
    "\n",
    "voting = VotingClassifier(estimators=[('tree1',dtc1),('tree2',dtc2),('knn1',knn1),('knn2',knn2),('nb',nb)],voting='soft')  # model esembling\n",
    "\n",
    "voting.fit(X_train,y_train)\n",
    "y_pred = voting.predict(X_test)\n",
    "print(classification_report(y_test,y_pred))\n",
    "\n"
   ]
  },
  {
   "cell_type": "markdown",
   "id": "c9f0874e-86e1-4f50-bcee-e9f4c668eb74",
   "metadata": {},
   "source": [
    "<h1 style = color:orange>Weighted Average</h1>"
   ]
  },
  {
   "cell_type": "code",
   "execution_count": 38,
   "id": "5dd555b0-d115-4232-8ef5-d279de7e5ca0",
   "metadata": {},
   "outputs": [
    {
     "name": "stdout",
     "output_type": "stream",
     "text": [
      "              precision    recall  f1-score   support\n",
      "\n",
      "           0       0.73      0.97      0.84        34\n",
      "           1       0.94      0.59      0.72        29\n",
      "\n",
      "    accuracy                           0.79        63\n",
      "   macro avg       0.84      0.78      0.78        63\n",
      "weighted avg       0.83      0.79      0.78        63\n",
      "\n"
     ]
    }
   ],
   "source": [
    "sonar = pd.read_csv('../Datasets/Sonar.csv')\n",
    "\n",
    "# le = LabelEncoder()\n",
    "\n",
    "X = sonar.drop('Class',axis = 1)\n",
    "y = sonar['Class']\n",
    "\n",
    "y_le = le.fit_transform(y)\n",
    "\n",
    "X_train,X_test,y_train,y_test = train_test_split(X,y_le,test_size=0.3,stratify=y,random_state=25)\n",
    "\n",
    "dtc1 = DecisionTreeClassifier(random_state=25)\n",
    "dtc2 = DecisionTreeClassifier(random_state=25,max_depth=3)\n",
    "\n",
    "knn1 = KNeighborsClassifier(n_neighbors=5)\n",
    "knn2 = KNeighborsClassifier(n_neighbors=3)\n",
    "\n",
    "nb = GaussianNB()\n",
    "\n",
    "\n",
    "voting = VotingClassifier(estimators=[('tree1',dtc1),('tree2',dtc2),('knn1',knn1),('knn2',knn2),('nb',nb)],voting='soft',weights=[2,1,3,4,1])  # model esembling\n",
    "\n",
    "voting.fit(X_train,y_train)\n",
    "y_pred = voting.predict(X_test)\n",
    "print(classification_report(y_test,y_pred))\n"
   ]
  },
  {
   "cell_type": "markdown",
   "id": "185db265-1d29-4a1c-85de-c95b669fa89c",
   "metadata": {},
   "source": [
    "<h1>HR Dataset</h1>"
   ]
  },
  {
   "cell_type": "code",
   "execution_count": 45,
   "id": "b204cd3c-1a30-4312-82d2-827692178841",
   "metadata": {},
   "outputs": [
    {
     "name": "stdout",
     "output_type": "stream",
     "text": [
      "              precision    recall  f1-score   support\n",
      "\n",
      "           0       0.98      0.97      0.98      3429\n",
      "           1       0.90      0.95      0.93      1070\n",
      "\n",
      "    accuracy                           0.96      4499\n",
      "   macro avg       0.94      0.96      0.95      4499\n",
      "weighted avg       0.97      0.96      0.96      4499\n",
      "\n",
      "1.2978599353271791\n"
     ]
    }
   ],
   "source": [
    "ohe = OneHotEncoder(sparse_output=False,drop='first',).set_output(transform='pandas')\n",
    "oe = OrdinalEncoder(categories=[['low','medium','high']]).set_output(transform='pandas')\n",
    "\n",
    "hr = pd.read_csv('../Cases/HRAnalytics/HR_comma_sep.csv')\n",
    "\n",
    "column_transform = make_column_transformer((ohe,['Department']),(oe,['salary']),remainder='passthrough',verbose_feature_names_out=False).set_output(transform='pandas')\n",
    "\n",
    "X = hr.drop('left',axis = 1)\n",
    "y = hr['left']\n",
    "\n",
    "X_train,X_test,y_train,y_test = train_test_split(X,y,test_size=0.3,random_state=25,stratify=y)\n",
    "\n",
    "X_train_ct = column_transform.fit_transform(X_train)\n",
    "X_test_ct =column_transform.transform(X_test)\n",
    "\n",
    "\n",
    "dtc1 = DecisionTreeClassifier(random_state=25)\n",
    "dtc2 = DecisionTreeClassifier(random_state=25,max_depth=3)\n",
    "\n",
    "knn1 = KNeighborsClassifier(n_neighbors=5)\n",
    "knn2 = KNeighborsClassifier(n_neighbors=3)\n",
    "\n",
    "nb = GaussianNB()\n",
    "\n",
    "\n",
    "voting = VotingClassifier(estimators=[('tree1',dtc1),('tree2',dtc2),('knn1',knn1),('knn2',knn2),('nb',nb)])  # model esembling\n",
    "\n",
    "voting.fit(X_train_ct,y_train)\n",
    "y_pred = voting.predict(X_test_ct)\n",
    "print(classification_report(y_test,y_pred))\n",
    "print(log_loss(y_test, voting.predict(X_test_ct)))"
   ]
  },
  {
   "cell_type": "code",
   "execution_count": 44,
   "id": "624ca104-c30a-4597-a572-215b99ab94e8",
   "metadata": {},
   "outputs": [
    {
     "name": "stdout",
     "output_type": "stream",
     "text": [
      "              precision    recall  f1-score   support\n",
      "\n",
      "           0       0.98      0.98      0.98      3429\n",
      "           1       0.93      0.95      0.94      1070\n",
      "\n",
      "    accuracy                           0.97      4499\n",
      "   macro avg       0.96      0.97      0.96      4499\n",
      "weighted avg       0.97      0.97      0.97      4499\n",
      "\n",
      "0.9934236542010508\n"
     ]
    }
   ],
   "source": [
    "voting = VotingClassifier(estimators=[('tree1',dtc1),('tree2',dtc2),('knn1',knn1),('knn2',knn2),('nb',nb)], voting='soft')  # model esembling\n",
    "\n",
    "voting.fit(X_train_ct,y_train)\n",
    "y_pred = voting.predict(X_test_ct)\n",
    "print(classification_report(y_test,y_pred))\n",
    "print(log_loss(y_test, voting.predict(X_test_ct)))"
   ]
  },
  {
   "cell_type": "markdown",
   "id": "82e9265c-34c3-4be8-b191-1e17a82d0c87",
   "metadata": {},
   "source": [
    "<h1 style = color:orange>Voting Regressor</h1>"
   ]
  },
  {
   "cell_type": "code",
   "execution_count": 82,
   "id": "b2a34bcf-6dd7-456c-a25d-07cf5685af27",
   "metadata": {},
   "outputs": [
    {
     "name": "stdout",
     "output_type": "stream",
     "text": [
      "0.8550749354114082\n",
      "DecisionTreeRegressor(random_state=25) : 0.8127760533837747\n",
      "DecisionTreeRegressor(max_depth=5, random_state=25) : 0.7311101169515943\n",
      "LinearRegression() : 0.6351839142464111\n",
      "ElasticNet() : 0.6345321364921961\n"
     ]
    }
   ],
   "source": [
    "concrete = pd.read_csv('../Cases/Concrete_Strength/Concrete_Data.csv')\n",
    "\n",
    "X = concrete.drop('Strength', axis =1)\n",
    "y = concrete['Strength']\n",
    "\n",
    "X_train,X_test,y_train,y_test = train_test_split(X,y,random_state=25,test_size=0.3)\n",
    "\n",
    "dtr = DecisionTreeRegressor(random_state = 25)\n",
    "dtr2 = DecisionTreeRegressor(random_state = 25,max_depth=5)\n",
    "\n",
    "lr  = LinearRegression()\n",
    "en = ElasticNet()\n",
    "\n",
    "voting = VotingRegressor(estimators=[('Tree',dtr),('Tree2',dtr2),('LR',lr),(\"EL\",en)],weights=[10,5,3,3])\n",
    "voting.fit(X_train,y_train)\n",
    "\n",
    "y_pred = voting.predict(X_test)\n",
    "print(r2_score(y_test,y_pred))\n",
    "\n",
    "for i in range(len(voting.estimators_)):\n",
    "    print(voting.estimators_[i], ':',end = ' ')\n",
    "    print(r2_score(y_test,voting.estimators_[i].predict(X_test)))\n",
    "    \n"
   ]
  },
  {
   "cell_type": "markdown",
   "id": "77353a33-8df0-4653-9ef4-295e92ca11b7",
   "metadata": {},
   "source": [
    "<h1 style = 'color: orange'>Bagging</h1>"
   ]
  },
  {
   "cell_type": "code",
   "execution_count": 97,
   "id": "248a09e9-e7ee-4821-985e-8a3bec0c9d81",
   "metadata": {},
   "outputs": [
    {
     "name": "stdout",
     "output_type": "stream",
     "text": [
      "              precision    recall  f1-score   support\n",
      "\n",
      "           M       0.61      0.74      0.67        34\n",
      "           R       0.59      0.45      0.51        29\n",
      "\n",
      "    accuracy                           0.60        63\n",
      "   macro avg       0.60      0.59      0.59        63\n",
      "weighted avg       0.60      0.60      0.59        63\n",
      "\n"
     ]
    }
   ],
   "source": [
    "sonar = pd.read_csv('../Datasets/Sonar.csv')\n",
    "\n",
    "le = LabelEncoder()\n",
    "\n",
    "X = sonar.drop('Class',axis = 1)\n",
    "y = sonar['Class']\n",
    "\n",
    "# y_le = le.fit_transform(y)\n",
    "\n",
    "X_train,X_test,y_train,y_test = train_test_split(X,y,test_size=0.3,stratify=y,random_state=25)\n",
    "\n",
    "dtc1 = DecisionTreeClassifier(random_state=25)\n",
    "dtc2 = DecisionTreeClassifier(random_state=25,max_depth=3)\n",
    "\n",
    "knn1 = KNeighborsClassifier(n_neighbors=5)\n",
    "knn2 = KNeighborsClassifier(n_neighbors=3)\n",
    "\n",
    "nb = GaussianNB()\n",
    "\n",
    "est_list = (dtc1,dtc2,knn1,knn2,nb)\n",
    "n_est = [10,15,25,50]\n",
    "\n",
    "bagging = BaggingClassifier(estimator=nb,n_estimators=10)  # model esembling\n",
    "\n",
    "bagging.fit(X_train,y_train)\n",
    "y_pred = bagging.predict(X_test)\n",
    "print(classification_report(y_test,y_pred))\n",
    "\n",
    "\n",
    "\n",
    "for e in est_list:\n",
    "    for n in n_est\n",
    "        bagging = BaggingClassifier(estimator=e,n_estimators=n)\n",
    "        bagging.fit(X_train,y_train)\n",
    "        y_pred = bagging.predict(X_test)\n"
   ]
  },
  {
   "cell_type": "code",
   "execution_count": null,
   "id": "60adbd66-0e31-4426-a209-a070af8b1296",
   "metadata": {},
   "outputs": [],
   "source": []
  },
  {
   "cell_type": "code",
   "execution_count": null,
   "id": "95ad8702-b1a3-414e-a730-e39c960ada28",
   "metadata": {},
   "outputs": [],
   "source": []
  },
  {
   "cell_type": "code",
   "execution_count": null,
   "id": "f1c11e8c-a2a9-42bf-87bb-f044d53fc325",
   "metadata": {},
   "outputs": [],
   "source": [
    "1"
   ]
  }
 ],
 "metadata": {
  "kernelspec": {
   "display_name": "Python 3 (ipykernel)",
   "language": "python",
   "name": "python3"
  },
  "language_info": {
   "codemirror_mode": {
    "name": "ipython",
    "version": 3
   },
   "file_extension": ".py",
   "mimetype": "text/x-python",
   "name": "python",
   "nbconvert_exporter": "python",
   "pygments_lexer": "ipython3",
   "version": "3.13.7"
  }
 },
 "nbformat": 4,
 "nbformat_minor": 5
}
