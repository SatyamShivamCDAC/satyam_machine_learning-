{
 "cells": [
  {
   "cell_type": "code",
   "execution_count": 1,
   "id": "e7a0b64e-3beb-4b41-b1f5-6566601f13b7",
   "metadata": {},
   "outputs": [],
   "source": [
    "import numpy as np\n",
    "import matplotlib.pyplot as plt"
   ]
  },
  {
   "cell_type": "code",
   "execution_count": 2,
   "id": "eb80469c-005e-45f9-91e1-9ffe6e4e4c14",
   "metadata": {},
   "outputs": [],
   "source": [
    "x = np.array([0.3,0.9,0.8,1.4,1.5,2])\n",
    "y = 3*x + 5"
   ]
  },
  {
   "cell_type": "code",
   "execution_count": 12,
   "id": "be9e4c41-6c97-4371-84ae-17ab7f21f965",
   "metadata": {},
   "outputs": [],
   "source": [
    "b1 = (((x*y).sum()/len(x)) - (x.mean()*y.mean()))/(((x*x)/len(x)).sum() - (x.mean()**2))"
   ]
  },
  {
   "cell_type": "code",
   "execution_count": 13,
   "id": "e6060252-aae8-44c7-b967-296209785380",
   "metadata": {},
   "outputs": [
    {
     "data": {
      "text/plain": [
       "np.float64(2.9999999999999925)"
      ]
     },
     "execution_count": 13,
     "metadata": {},
     "output_type": "execute_result"
    }
   ],
   "source": [
    "b0 - y.m"
   ]
  },
  {
   "cell_type": "code",
   "execution_count": null,
   "id": "c416d541-e462-491d-9818-8f8a79503cf5",
   "metadata": {},
   "outputs": [],
   "source": []
  }
 ],
 "metadata": {
  "kernelspec": {
   "display_name": "Python 3 (ipykernel)",
   "language": "python",
   "name": "python3"
  },
  "language_info": {
   "codemirror_mode": {
    "name": "ipython",
    "version": 3
   },
   "file_extension": ".py",
   "mimetype": "text/x-python",
   "name": "python",
   "nbconvert_exporter": "python",
   "pygments_lexer": "ipython3",
   "version": "3.13.7"
  }
 },
 "nbformat": 4,
 "nbformat_minor": 5
}
